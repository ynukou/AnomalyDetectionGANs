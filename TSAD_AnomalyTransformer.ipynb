{
  "nbformat": 4,
  "nbformat_minor": 0,
  "metadata": {
    "colab": {
      "name": "TSAD-AnomalyTransformer.ipynb",
      "provenance": [],
      "authorship_tag": "ABX9TyMLzDuSnVaZVGIA8Upcbh3I",
      "include_colab_link": true
    },
    "kernelspec": {
      "name": "python3",
      "display_name": "Python 3"
    },
    "language_info": {
      "name": "python"
    },
    "accelerator": "GPU",
    "gpuClass": "standard"
  },
  "cells": [
    {
      "cell_type": "markdown",
      "metadata": {
        "id": "view-in-github",
        "colab_type": "text"
      },
      "source": [
        "<a href=\"https://colab.research.google.com/github/ynukou/AnomalyDetectionGANs/blob/main/TSAD_AnomalyTransformer.ipynb\" target=\"_parent\"><img src=\"https://colab.research.google.com/assets/colab-badge.svg\" alt=\"Open In Colab\"/></a>"
      ]
    },
    {
      "cell_type": "code",
      "source": [
        "!git clone https://github.com/thuml/Anomaly-Transformer.git"
      ],
      "metadata": {
        "colab": {
          "base_uri": "https://localhost:8080/"
        },
        "id": "EfNfs-Yw_fNI",
        "outputId": "c5243dbe-9440-4fe8-84a0-86da708fbfc9"
      },
      "execution_count": 6,
      "outputs": [
        {
          "output_type": "stream",
          "name": "stdout",
          "text": [
            "Cloning into 'Anomaly-Transformer'...\n",
            "remote: Enumerating objects: 94, done.\u001b[K\n",
            "remote: Counting objects: 100% (10/10), done.\u001b[K\n",
            "remote: Compressing objects: 100% (10/10), done.\u001b[K\n",
            "remote: Total 94 (delta 3), reused 6 (delta 0), pack-reused 84\u001b[K\n",
            "Unpacking objects: 100% (94/94), done.\n"
          ]
        }
      ]
    },
    {
      "cell_type": "code",
      "source": [
        "%cd /content/Anomaly-Transformer"
      ],
      "metadata": {
        "colab": {
          "base_uri": "https://localhost:8080/"
        },
        "id": "6luXjzRV_zh8",
        "outputId": "8b5e1319-cd90-4828-c7a4-02c65adb125f"
      },
      "execution_count": 7,
      "outputs": [
        {
          "output_type": "stream",
          "name": "stdout",
          "text": [
            "/content/Anomaly-Transformer\n"
          ]
        }
      ]
    },
    {
      "cell_type": "code",
      "source": [
        "%ls"
      ],
      "metadata": {
        "colab": {
          "base_uri": "https://localhost:8080/"
        },
        "id": "oIf5HOl8_5FL",
        "outputId": "15e097e8-ab51-41d0-ae4a-086d6f00ce60"
      },
      "execution_count": 8,
      "outputs": [
        {
          "output_type": "stream",
          "name": "stdout",
          "text": [
            "\u001b[0m\u001b[01;34mAnomaly-Transformer\u001b[0m/  \u001b[01;34mdataset\u001b[0m/  \u001b[01;34mmodel\u001b[0m/        README.md     solver.py\n",
            "\u001b[01;34mcheckpoints\u001b[0m/          LICENSE   \u001b[01;34mpics\u001b[0m/         \u001b[01;32mresults.txt\u001b[0m*  \u001b[01;34mutils\u001b[0m/\n",
            "\u001b[01;34mdata_factory\u001b[0m/         \u001b[01;32mmain.py\u001b[0m*  \u001b[01;34m__pycache__\u001b[0m/  \u001b[01;34mscripts\u001b[0m/\n"
          ]
        }
      ]
    },
    {
      "cell_type": "code",
      "source": [
        "%cat README.md"
      ],
      "metadata": {
        "colab": {
          "base_uri": "https://localhost:8080/"
        },
        "id": "TDbNDt6u_73L",
        "outputId": "1c4a9be5-d25c-48e1-982f-90503fd5304e"
      },
      "execution_count": 9,
      "outputs": [
        {
          "output_type": "stream",
          "name": "stdout",
          "text": [
            "# Anomaly-Transformer (ICLR 2022 Spotlight)\n",
            "Anomaly Transformer: Time Series Anomaly Detection with Association Discrepancy\n",
            "\n",
            "Unsupervised detection of anomaly points in time series is a challenging problem, which requires the model to learn informative representation and derive a distinguishable criterion. In this paper, we propose the Anomaly Transformer in these three folds:\n",
            "\n",
            "- An inherent distinguishable criterion as **Association Discrepancy** for detection.\n",
            "- A new **Anomaly-Attention** mechanism to compute the association discrepancy.\n",
            "- A **minimax strategy** to amplify the normal-abnormal distinguishability of the association discrepancy.\n",
            "\n",
            "<p align=\"center\">\n",
            "<img src=\".\\pics\\structure.png\" height = \"350\" alt=\"\" align=center />\n",
            "</p>\n",
            "\n",
            "## Get Started\n",
            "\n",
            "1. Install Python 3.6, PyTorch 1.4.0. (Note: Higher PyTorch version may cause error.)\n",
            "2. Download data. You can obtain four benchmarks from [Tsinghua Cloud](https://cloud.tsinghua.edu.cn/d/9605612594f0423f891e/). **All the datasets are well pre-processed**. For the SWaT dataset, you can apply for it by following its official tutorial.\n",
            "3. Train and evaluate. We provide the experiment scripts of all benchmarks under the folder `./scripts`. You can reproduce the experiment results as follows:\n",
            "```bash\n",
            "bash ./scripts/SMD.sh\n",
            "bash ./scripts/MSL.sh\n",
            "bash ./scripts/SMAP.sh\n",
            "bash ./scripts/PSM.sh\n",
            "```\n",
            "\n",
            "## Main Result\n",
            "\n",
            "We compare our model with 15 baselines, including THOC, InterFusion, etc. **Generally,  Anomaly-Transformer achieves SOTA.**\n",
            "\n",
            "<p align=\"center\">\n",
            "<img src=\".\\pics\\result.png\" height = \"450\" alt=\"\" align=center />\n",
            "</p>\n",
            "\n",
            "## Citation\n",
            "If you find this repo useful, please cite our paper. \n",
            "\n",
            "```\n",
            "@inproceedings{\n",
            "xu2022anomaly,\n",
            "title={Anomaly Transformer: Time Series Anomaly Detection with Association Discrepancy},\n",
            "author={Jiehui Xu and Haixu Wu and Jianmin Wang and Mingsheng Long},\n",
            "booktitle={International Conference on Learning Representations},\n",
            "year={2022},\n",
            "url={https://openreview.net/forum?id=LzQQ89U1qm_}\n",
            "}\n",
            "```\n",
            "\n",
            "## Contact\n",
            "If you have any question, please contact xjh20@mails.tsinghua.edu.cn, whx20@mails.tsinghua.edu.cn.\n"
          ]
        }
      ]
    },
    {
      "cell_type": "code",
      "source": [
        "!mkdir dataset"
      ],
      "metadata": {
        "id": "bEqstMDRc8Fl",
        "colab": {
          "base_uri": "https://localhost:8080/"
        },
        "outputId": "b9ac7ef9-eb0c-47ec-cec5-692afa1d008d"
      },
      "execution_count": 10,
      "outputs": [
        {
          "output_type": "stream",
          "name": "stdout",
          "text": [
            "mkdir: cannot create directory ‘dataset’: File exists\n"
          ]
        }
      ]
    },
    {
      "cell_type": "code",
      "source": [
        "%cd dataset"
      ],
      "metadata": {
        "colab": {
          "base_uri": "https://localhost:8080/"
        },
        "id": "5AMReH71dgYT",
        "outputId": "7eb2478b-7ee5-4921-9f58-3e1cca99fe68"
      },
      "execution_count": 11,
      "outputs": [
        {
          "output_type": "stream",
          "name": "stdout",
          "text": [
            "/content/Anomaly-Transformer/dataset\n"
          ]
        }
      ]
    },
    {
      "cell_type": "code",
      "source": [
        "!mkdir MSL"
      ],
      "metadata": {
        "id": "oj_-KM1ccMHm",
        "colab": {
          "base_uri": "https://localhost:8080/"
        },
        "outputId": "f43d9b0c-3703-48b7-eafd-8d42574d0c36"
      },
      "execution_count": 12,
      "outputs": [
        {
          "output_type": "stream",
          "name": "stdout",
          "text": [
            "mkdir: cannot create directory ‘MSL’: File exists\n"
          ]
        }
      ]
    },
    {
      "cell_type": "code",
      "source": [
        "%cd MSL"
      ],
      "metadata": {
        "colab": {
          "base_uri": "https://localhost:8080/"
        },
        "id": "gECL8SGKcV5z",
        "outputId": "cb8e8c91-519e-4303-d541-ee3aec4c72d9"
      },
      "execution_count": 13,
      "outputs": [
        {
          "output_type": "stream",
          "name": "stdout",
          "text": [
            "/content/Anomaly-Transformer/dataset/MSL\n"
          ]
        }
      ]
    },
    {
      "cell_type": "code",
      "source": [
        "!wget --help"
      ],
      "metadata": {
        "colab": {
          "base_uri": "https://localhost:8080/"
        },
        "id": "BZZoX9M-cqnI",
        "outputId": "785a4f25-a3b1-4164-d946-99f6ddf71d7a"
      },
      "execution_count": 14,
      "outputs": [
        {
          "output_type": "stream",
          "name": "stdout",
          "text": [
            "GNU Wget 1.19.4, a non-interactive network retriever.\n",
            "Usage: wget [OPTION]... [URL]...\n",
            "\n",
            "Mandatory arguments to long options are mandatory for short options too.\n",
            "\n",
            "Startup:\n",
            "  -V,  --version                   display the version of Wget and exit\n",
            "  -h,  --help                      print this help\n",
            "  -b,  --background                go to background after startup\n",
            "  -e,  --execute=COMMAND           execute a `.wgetrc'-style command\n",
            "\n",
            "Logging and input file:\n",
            "  -o,  --output-file=FILE          log messages to FILE\n",
            "  -a,  --append-output=FILE        append messages to FILE\n",
            "  -d,  --debug                     print lots of debugging information\n",
            "  -q,  --quiet                     quiet (no output)\n",
            "  -v,  --verbose                   be verbose (this is the default)\n",
            "  -nv, --no-verbose                turn off verboseness, without being quiet\n",
            "       --report-speed=TYPE         output bandwidth as TYPE.  TYPE can be bits\n",
            "  -i,  --input-file=FILE           download URLs found in local or external FILE\n",
            "  -F,  --force-html                treat input file as HTML\n",
            "  -B,  --base=URL                  resolves HTML input-file links (-i -F)\n",
            "                                     relative to URL\n",
            "       --config=FILE               specify config file to use\n",
            "       --no-config                 do not read any config file\n",
            "       --rejected-log=FILE         log reasons for URL rejection to FILE\n",
            "\n",
            "Download:\n",
            "  -t,  --tries=NUMBER              set number of retries to NUMBER (0 unlimits)\n",
            "       --retry-connrefused         retry even if connection is refused\n",
            "  -O,  --output-document=FILE      write documents to FILE\n",
            "  -nc, --no-clobber                skip downloads that would download to\n",
            "                                     existing files (overwriting them)\n",
            "       --no-netrc                  don't try to obtain credentials from .netrc\n",
            "  -c,  --continue                  resume getting a partially-downloaded file\n",
            "       --start-pos=OFFSET          start downloading from zero-based position OFFSET\n",
            "       --progress=TYPE             select progress gauge type\n",
            "       --show-progress             display the progress bar in any verbosity mode\n",
            "  -N,  --timestamping              don't re-retrieve files unless newer than\n",
            "                                     local\n",
            "       --no-if-modified-since      don't use conditional if-modified-since get\n",
            "                                     requests in timestamping mode\n",
            "       --no-use-server-timestamps  don't set the local file's timestamp by\n",
            "                                     the one on the server\n",
            "  -S,  --server-response           print server response\n",
            "       --spider                    don't download anything\n",
            "  -T,  --timeout=SECONDS           set all timeout values to SECONDS\n",
            "       --dns-timeout=SECS          set the DNS lookup timeout to SECS\n",
            "       --connect-timeout=SECS      set the connect timeout to SECS\n",
            "       --read-timeout=SECS         set the read timeout to SECS\n",
            "  -w,  --wait=SECONDS              wait SECONDS between retrievals\n",
            "       --waitretry=SECONDS         wait 1..SECONDS between retries of a retrieval\n",
            "       --random-wait               wait from 0.5*WAIT...1.5*WAIT secs between retrievals\n",
            "       --no-proxy                  explicitly turn off proxy\n",
            "  -Q,  --quota=NUMBER              set retrieval quota to NUMBER\n",
            "       --bind-address=ADDRESS      bind to ADDRESS (hostname or IP) on local host\n",
            "       --limit-rate=RATE           limit download rate to RATE\n",
            "       --no-dns-cache              disable caching DNS lookups\n",
            "       --restrict-file-names=OS    restrict chars in file names to ones OS allows\n",
            "       --ignore-case               ignore case when matching files/directories\n",
            "  -4,  --inet4-only                connect only to IPv4 addresses\n",
            "  -6,  --inet6-only                connect only to IPv6 addresses\n",
            "       --prefer-family=FAMILY      connect first to addresses of specified family,\n",
            "                                     one of IPv6, IPv4, or none\n",
            "       --user=USER                 set both ftp and http user to USER\n",
            "       --password=PASS             set both ftp and http password to PASS\n",
            "       --ask-password              prompt for passwords\n",
            "       --use-askpass=COMMAND       specify credential handler for requesting \n",
            "                                     username and password.  If no COMMAND is \n",
            "                                     specified the WGET_ASKPASS or the SSH_ASKPASS \n",
            "                                     environment variable is used.\n",
            "       --no-iri                    turn off IRI support\n",
            "       --local-encoding=ENC        use ENC as the local encoding for IRIs\n",
            "       --remote-encoding=ENC       use ENC as the default remote encoding\n",
            "       --unlink                    remove file before clobber\n",
            "       --xattr                     turn on storage of metadata in extended file attributes\n",
            "\n",
            "Directories:\n",
            "  -nd, --no-directories            don't create directories\n",
            "  -x,  --force-directories         force creation of directories\n",
            "  -nH, --no-host-directories       don't create host directories\n",
            "       --protocol-directories      use protocol name in directories\n",
            "  -P,  --directory-prefix=PREFIX   save files to PREFIX/..\n",
            "       --cut-dirs=NUMBER           ignore NUMBER remote directory components\n",
            "\n",
            "HTTP options:\n",
            "       --http-user=USER            set http user to USER\n",
            "       --http-password=PASS        set http password to PASS\n",
            "       --no-cache                  disallow server-cached data\n",
            "       --default-page=NAME         change the default page name (normally\n",
            "                                     this is 'index.html'.)\n",
            "  -E,  --adjust-extension          save HTML/CSS documents with proper extensions\n",
            "       --ignore-length             ignore 'Content-Length' header field\n",
            "       --header=STRING             insert STRING among the headers\n",
            "       --max-redirect              maximum redirections allowed per page\n",
            "       --proxy-user=USER           set USER as proxy username\n",
            "       --proxy-password=PASS       set PASS as proxy password\n",
            "       --referer=URL               include 'Referer: URL' header in HTTP request\n",
            "       --save-headers              save the HTTP headers to file\n",
            "  -U,  --user-agent=AGENT          identify as AGENT instead of Wget/VERSION\n",
            "       --no-http-keep-alive        disable HTTP keep-alive (persistent connections)\n",
            "       --no-cookies                don't use cookies\n",
            "       --load-cookies=FILE         load cookies from FILE before session\n",
            "       --save-cookies=FILE         save cookies to FILE after session\n",
            "       --keep-session-cookies      load and save session (non-permanent) cookies\n",
            "       --post-data=STRING          use the POST method; send STRING as the data\n",
            "       --post-file=FILE            use the POST method; send contents of FILE\n",
            "       --method=HTTPMethod         use method \"HTTPMethod\" in the request\n",
            "       --body-data=STRING          send STRING as data. --method MUST be set\n",
            "       --body-file=FILE            send contents of FILE. --method MUST be set\n",
            "       --content-disposition       honor the Content-Disposition header when\n",
            "                                     choosing local file names (EXPERIMENTAL)\n",
            "       --content-on-error          output the received content on server errors\n",
            "       --auth-no-challenge         send Basic HTTP authentication information\n",
            "                                     without first waiting for the server's\n",
            "                                     challenge\n",
            "\n",
            "HTTPS (SSL/TLS) options:\n",
            "       --secure-protocol=PR        choose secure protocol, one of auto, SSLv2,\n",
            "                                     SSLv3, TLSv1, TLSv1_1, TLSv1_2 and PFS\n",
            "       --https-only                only follow secure HTTPS links\n",
            "       --no-check-certificate      don't validate the server's certificate\n",
            "       --certificate=FILE          client certificate file\n",
            "       --certificate-type=TYPE     client certificate type, PEM or DER\n",
            "       --private-key=FILE          private key file\n",
            "       --private-key-type=TYPE     private key type, PEM or DER\n",
            "       --ca-certificate=FILE       file with the bundle of CAs\n",
            "       --ca-directory=DIR          directory where hash list of CAs is stored\n",
            "       --crl-file=FILE             file with bundle of CRLs\n",
            "       --pinnedpubkey=FILE/HASHES  Public key (PEM/DER) file, or any number\n",
            "                                   of base64 encoded sha256 hashes preceded by\n",
            "                                   'sha256//' and separated by ';', to verify\n",
            "                                   peer against\n",
            "       --random-file=FILE          file with random data for seeding the SSL PRNG\n",
            "\n",
            "HSTS options:\n",
            "       --no-hsts                   disable HSTS\n",
            "       --hsts-file                 path of HSTS database (will override default)\n",
            "\n",
            "FTP options:\n",
            "       --ftp-user=USER             set ftp user to USER\n",
            "       --ftp-password=PASS         set ftp password to PASS\n",
            "       --no-remove-listing         don't remove '.listing' files\n",
            "       --no-glob                   turn off FTP file name globbing\n",
            "       --no-passive-ftp            disable the \"passive\" transfer mode\n",
            "       --preserve-permissions      preserve remote file permissions\n",
            "       --retr-symlinks             when recursing, get linked-to files (not dir)\n",
            "\n",
            "FTPS options:\n",
            "       --ftps-implicit                 use implicit FTPS (default port is 990)\n",
            "       --ftps-resume-ssl               resume the SSL/TLS session started in the control connection when\n",
            "                                         opening a data connection\n",
            "       --ftps-clear-data-connection    cipher the control channel only; all the data will be in plaintext\n",
            "       --ftps-fallback-to-ftp          fall back to FTP if FTPS is not supported in the target server\n",
            "WARC options:\n",
            "       --warc-file=FILENAME        save request/response data to a .warc.gz file\n",
            "       --warc-header=STRING        insert STRING into the warcinfo record\n",
            "       --warc-max-size=NUMBER      set maximum size of WARC files to NUMBER\n",
            "       --warc-cdx                  write CDX index files\n",
            "       --warc-dedup=FILENAME       do not store records listed in this CDX file\n",
            "       --no-warc-digests           do not calculate SHA1 digests\n",
            "       --no-warc-keep-log          do not store the log file in a WARC record\n",
            "       --warc-tempdir=DIRECTORY    location for temporary files created by the\n",
            "                                     WARC writer\n",
            "\n",
            "Recursive download:\n",
            "  -r,  --recursive                 specify recursive download\n",
            "  -l,  --level=NUMBER              maximum recursion depth (inf or 0 for infinite)\n",
            "       --delete-after              delete files locally after downloading them\n",
            "  -k,  --convert-links             make links in downloaded HTML or CSS point to\n",
            "                                     local files\n",
            "       --convert-file-only         convert the file part of the URLs only (usually known as the basename)\n",
            "       --backups=N                 before writing file X, rotate up to N backup files\n",
            "  -K,  --backup-converted          before converting file X, back up as X.orig\n",
            "  -m,  --mirror                    shortcut for -N -r -l inf --no-remove-listing\n",
            "  -p,  --page-requisites           get all images, etc. needed to display HTML page\n",
            "       --strict-comments           turn on strict (SGML) handling of HTML comments\n",
            "\n",
            "Recursive accept/reject:\n",
            "  -A,  --accept=LIST               comma-separated list of accepted extensions\n",
            "  -R,  --reject=LIST               comma-separated list of rejected extensions\n",
            "       --accept-regex=REGEX        regex matching accepted URLs\n",
            "       --reject-regex=REGEX        regex matching rejected URLs\n",
            "       --regex-type=TYPE           regex type (posix|pcre)\n",
            "  -D,  --domains=LIST              comma-separated list of accepted domains\n",
            "       --exclude-domains=LIST      comma-separated list of rejected domains\n",
            "       --follow-ftp                follow FTP links from HTML documents\n",
            "       --follow-tags=LIST          comma-separated list of followed HTML tags\n",
            "       --ignore-tags=LIST          comma-separated list of ignored HTML tags\n",
            "  -H,  --span-hosts                go to foreign hosts when recursive\n",
            "  -L,  --relative                  follow relative links only\n",
            "  -I,  --include-directories=LIST  list of allowed directories\n",
            "       --trust-server-names        use the name specified by the redirection\n",
            "                                     URL's last component\n",
            "  -X,  --exclude-directories=LIST  list of excluded directories\n",
            "  -np, --no-parent                 don't ascend to the parent directory\n",
            "\n",
            "Mail bug reports and suggestions to <bug-wget@gnu.org>\n"
          ]
        }
      ]
    },
    {
      "cell_type": "code",
      "source": [
        "!wget -O MSL_test.npy https://cloud.tsinghua.edu.cn/d/9605612594f0423f891e/files/?p=%2FMSL%2FMSL_test.npy"
      ],
      "metadata": {
        "colab": {
          "base_uri": "https://localhost:8080/"
        },
        "id": "k7yCs7WDdjsK",
        "outputId": "eaf44375-2e10-4cec-cc0f-cc8ed506e84e"
      },
      "execution_count": 15,
      "outputs": [
        {
          "output_type": "stream",
          "name": "stdout",
          "text": [
            "--2022-06-23 07:46:19--  https://cloud.tsinghua.edu.cn/d/9605612594f0423f891e/files/?p=%2FMSL%2FMSL_test.npy\n",
            "Resolving cloud.tsinghua.edu.cn (cloud.tsinghua.edu.cn)... 101.6.8.7\n",
            "Connecting to cloud.tsinghua.edu.cn (cloud.tsinghua.edu.cn)|101.6.8.7|:443... connected.\n",
            "HTTP request sent, awaiting response... 200 OK\n",
            "Length: 6416 (6.3K) [text/html]\n",
            "Saving to: ‘MSL_test.npy’\n",
            "\n",
            "MSL_test.npy        100%[===================>]   6.27K  --.-KB/s    in 0s      \n",
            "\n",
            "2022-06-23 07:46:20 (1.08 GB/s) - ‘MSL_test.npy’ saved [6416/6416]\n",
            "\n"
          ]
        }
      ]
    },
    {
      "cell_type": "code",
      "source": [
        "!wget -O MSL_test_label.npy https://cloud.tsinghua.edu.cn/d/9605612594f0423f891e/files/?p=%2FMSL%2FMSL_test_label.npy"
      ],
      "metadata": {
        "id": "bHBIw0gJezg_",
        "outputId": "91a12e35-9169-41d8-e8e2-36990b9bef1b",
        "colab": {
          "base_uri": "https://localhost:8080/"
        }
      },
      "execution_count": 16,
      "outputs": [
        {
          "output_type": "stream",
          "name": "stdout",
          "text": [
            "--2022-06-23 07:46:20--  https://cloud.tsinghua.edu.cn/d/9605612594f0423f891e/files/?p=%2FMSL%2FMSL_test_label.npy\n",
            "Resolving cloud.tsinghua.edu.cn (cloud.tsinghua.edu.cn)... 101.6.8.7\n",
            "Connecting to cloud.tsinghua.edu.cn (cloud.tsinghua.edu.cn)|101.6.8.7|:443... connected.\n",
            "HTTP request sent, awaiting response... 200 OK\n",
            "Length: 6455 (6.3K) [text/html]\n",
            "Saving to: ‘MSL_test_label.npy’\n",
            "\n",
            "MSL_test_label.npy  100%[===================>]   6.30K  --.-KB/s    in 0s      \n",
            "\n",
            "2022-06-23 07:46:21 (1.02 GB/s) - ‘MSL_test_label.npy’ saved [6455/6455]\n",
            "\n"
          ]
        }
      ]
    },
    {
      "cell_type": "code",
      "source": [
        "!wget -O MSL_train.npy https://cloud.tsinghua.edu.cn/d/9605612594f0423f891e/files/?p=%2FMSL%2FMSL_train.npy"
      ],
      "metadata": {
        "colab": {
          "base_uri": "https://localhost:8080/"
        },
        "id": "zELCuB7fZUeN",
        "outputId": "f17e12fc-fbb4-4146-8005-aeb839f1c13c"
      },
      "execution_count": 17,
      "outputs": [
        {
          "output_type": "stream",
          "name": "stdout",
          "text": [
            "--2022-06-23 07:46:22--  https://cloud.tsinghua.edu.cn/d/9605612594f0423f891e/files/?p=%2FMSL%2FMSL_train.npy\n",
            "Resolving cloud.tsinghua.edu.cn (cloud.tsinghua.edu.cn)... 101.6.8.7\n",
            "Connecting to cloud.tsinghua.edu.cn (cloud.tsinghua.edu.cn)|101.6.8.7|:443... connected.\n",
            "HTTP request sent, awaiting response... 200 OK\n",
            "Length: 6423 (6.3K) [text/html]\n",
            "Saving to: ‘MSL_train.npy’\n",
            "\n",
            "MSL_train.npy       100%[===================>]   6.27K  --.-KB/s    in 0s      \n",
            "\n",
            "2022-06-23 07:46:23 (1.05 GB/s) - ‘MSL_train.npy’ saved [6423/6423]\n",
            "\n"
          ]
        }
      ]
    },
    {
      "cell_type": "code",
      "source": [
        "%cd ../../"
      ],
      "metadata": {
        "colab": {
          "base_uri": "https://localhost:8080/"
        },
        "id": "Mx6jWf47d2lq",
        "outputId": "edef8adf-3631-4976-e574-7d91f54b2f46"
      },
      "execution_count": 18,
      "outputs": [
        {
          "output_type": "stream",
          "name": "stdout",
          "text": [
            "/content/Anomaly-Transformer\n"
          ]
        }
      ]
    },
    {
      "cell_type": "code",
      "source": [
        "import numpy\n",
        "numpy.__version__"
      ],
      "metadata": {
        "colab": {
          "base_uri": "https://localhost:8080/",
          "height": 37
        },
        "id": "oWhLpU30gUDJ",
        "outputId": "1a66cb4e-ba0c-4cdc-a3ec-6fa14540e222"
      },
      "execution_count": 19,
      "outputs": [
        {
          "output_type": "execute_result",
          "data": {
            "text/plain": [
              "'1.19.0'"
            ],
            "application/vnd.google.colaboratory.intrinsic+json": {
              "type": "string"
            }
          },
          "metadata": {},
          "execution_count": 19
        }
      ]
    },
    {
      "cell_type": "code",
      "source": [
        "# 重启colab runtime\n",
        "# import os\n",
        "# os.kill(os.getpid(), 9)"
      ],
      "metadata": {
        "id": "JHL4jiLXg4by"
      },
      "execution_count": 20,
      "outputs": []
    },
    {
      "cell_type": "code",
      "source": [
        "!bash ./scripts/MSL.sh"
      ],
      "metadata": {
        "id": "MYQObY8re3rF",
        "colab": {
          "base_uri": "https://localhost:8080/"
        },
        "outputId": "432caea9-8a52-4a9c-cb9d-47db95d87a9d"
      },
      "execution_count": 21,
      "outputs": [
        {
          "output_type": "stream",
          "name": "stdout",
          "text": [
            "------------ Options -------------\n",
            "anormly_ratio: 1.0\n",
            "batch_size: 256\n",
            "data_path: dataset/MSL\n",
            "dataset: MSL\n",
            "input_c: 55\n",
            "k: 3\n",
            "lr: 0.0001\n",
            "mode: train\n",
            "model_save_path: checkpoints\n",
            "num_epochs: 3\n",
            "output_c: 55\n",
            "pretrained_model: None\n",
            "win_size: 100\n",
            "-------------- End ----------------\n",
            "Traceback (most recent call last):\n",
            "  File \"main.py\", line 52, in <module>\n",
            "    main(config)\n",
            "  File \"main.py\", line 18, in main\n",
            "    solver = Solver(vars(config))\n",
            "  File \"/content/Anomaly-Transformer/solver.py\", line 74, in __init__\n",
            "    dataset=self.dataset)\n",
            "  File \"/content/Anomaly-Transformer/data_factory/data_loader.py\", line 206, in get_loader_segment\n",
            "    dataset = MSLSegLoader(data_path, win_size, 1, mode)\n",
            "  File \"/content/Anomaly-Transformer/data_factory/data_loader.py\", line 78, in __init__\n",
            "    data = np.load(data_path + \"/MSL_train.npy\")\n",
            "  File \"/usr/local/lib/python3.7/dist-packages/numpy/lib/npyio.py\", line 444, in load\n",
            "    raise ValueError(\"Cannot load file containing pickled data \"\n",
            "ValueError: Cannot load file containing pickled data when allow_pickle=False\n",
            "------------ Options -------------\n",
            "anormly_ratio: 1.0\n",
            "batch_size: 256\n",
            "data_path: dataset/MSL\n",
            "dataset: MSL\n",
            "input_c: 55\n",
            "k: 3\n",
            "lr: 0.0001\n",
            "mode: test\n",
            "model_save_path: checkpoints\n",
            "num_epochs: 10\n",
            "output_c: 55\n",
            "pretrained_model: 20\n",
            "win_size: 100\n",
            "-------------- End ----------------\n",
            "Traceback (most recent call last):\n",
            "  File \"main.py\", line 52, in <module>\n",
            "    main(config)\n",
            "  File \"main.py\", line 18, in main\n",
            "    solver = Solver(vars(config))\n",
            "  File \"/content/Anomaly-Transformer/solver.py\", line 74, in __init__\n",
            "    dataset=self.dataset)\n",
            "  File \"/content/Anomaly-Transformer/data_factory/data_loader.py\", line 206, in get_loader_segment\n",
            "    dataset = MSLSegLoader(data_path, win_size, 1, mode)\n",
            "  File \"/content/Anomaly-Transformer/data_factory/data_loader.py\", line 78, in __init__\n",
            "    data = np.load(data_path + \"/MSL_train.npy\")\n",
            "  File \"/usr/local/lib/python3.7/dist-packages/numpy/lib/npyio.py\", line 444, in load\n",
            "    raise ValueError(\"Cannot load file containing pickled data \"\n",
            "ValueError: Cannot load file containing pickled data when allow_pickle=False\n"
          ]
        }
      ]
    }
  ]
}