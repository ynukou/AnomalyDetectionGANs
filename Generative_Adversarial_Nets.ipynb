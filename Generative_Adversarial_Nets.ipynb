{
  "metadata": {
    "kernelspec": {
      "language": "python",
      "display_name": "Python 3",
      "name": "python3"
    },
    "language_info": {
      "pygments_lexer": "ipython3",
      "nbconvert_exporter": "python",
      "version": "3.6.4",
      "file_extension": ".py",
      "codemirror_mode": {
        "name": "ipython",
        "version": 3
      },
      "name": "python",
      "mimetype": "text/x-python"
    },
    "colab": {
      "name": "Generative Adversarial Nets.ipynb",
      "provenance": [],
      "include_colab_link": true
    },
    "accelerator": "GPU"
  },
  "nbformat_minor": 0,
  "nbformat": 4,
  "cells": [
    {
      "cell_type": "markdown",
      "metadata": {
        "id": "view-in-github",
        "colab_type": "text"
      },
      "source": [
        "<a href=\"https://colab.research.google.com/github/ynukou/AnomalyDetectionGANs/blob/main/Generative_Adversarial_Nets.ipynb\" target=\"_parent\"><img src=\"https://colab.research.google.com/assets/colab-badge.svg\" alt=\"Open In Colab\"/></a>"
      ]
    },
    {
      "cell_type": "code",
      "source": [
        "import numpy as np\n",
        "import pandas as pd\n",
        "import tensorflow as tf\n",
        "import glob\n",
        "import imageio\n",
        "import matplotlib.pyplot as plt\n",
        "import numpy as np\n",
        "import os\n",
        "import PIL\n",
        "from tensorflow.keras import layers\n",
        "import time\n",
        "\n",
        "from IPython import display"
      ],
      "metadata": {
        "_uuid": "8f2839f25d086af736a60e9eeb907d3b93b6e0e5",
        "_cell_guid": "b1076dfc-b9ad-4769-8c92-a6c4dae69d19",
        "execution": {
          "iopub.status.busy": "2022-04-14T02:38:33.247384Z",
          "iopub.execute_input": "2022-04-14T02:38:33.247918Z",
          "iopub.status.idle": "2022-04-14T02:38:33.254844Z",
          "shell.execute_reply.started": "2022-04-14T02:38:33.247878Z",
          "shell.execute_reply": "2022-04-14T02:38:33.253886Z"
        },
        "trusted": true,
        "id": "WPnCu5RLOkpB"
      },
      "execution_count": null,
      "outputs": []
    },
    {
      "cell_type": "code",
      "source": [
        "(train_images, train_labels), (_, _) = tf.keras.datasets.mnist.load_data()"
      ],
      "metadata": {
        "execution": {
          "iopub.status.busy": "2022-04-14T02:38:33.256376Z",
          "iopub.execute_input": "2022-04-14T02:38:33.257268Z",
          "iopub.status.idle": "2022-04-14T02:38:33.545788Z",
          "shell.execute_reply.started": "2022-04-14T02:38:33.257166Z",
          "shell.execute_reply": "2022-04-14T02:38:33.545087Z"
        },
        "trusted": true,
        "id": "k37zIWPPOkpE",
        "colab": {
          "base_uri": "https://localhost:8080/"
        },
        "outputId": "e1ddf109-472c-40a9-bd5f-cfe47e8d987d"
      },
      "execution_count": null,
      "outputs": [
        {
          "output_type": "stream",
          "name": "stdout",
          "text": [
            "Downloading data from https://storage.googleapis.com/tensorflow/tf-keras-datasets/mnist.npz\n",
            "11493376/11490434 [==============================] - 0s 0us/step\n",
            "11501568/11490434 [==============================] - 0s 0us/step\n"
          ]
        }
      ]
    },
    {
      "cell_type": "code",
      "source": [
        "train_images = train_images.reshape(train_images.shape[0], 28, 28, 1).astype('float32')\n",
        "train_images = (train_images - 127.5) / 127.5  # Normalize the images to [-1, 1]"
      ],
      "metadata": {
        "execution": {
          "iopub.status.busy": "2022-04-14T02:38:33.548281Z",
          "iopub.execute_input": "2022-04-14T02:38:33.548991Z",
          "iopub.status.idle": "2022-04-14T02:38:33.670082Z",
          "shell.execute_reply.started": "2022-04-14T02:38:33.54895Z",
          "shell.execute_reply": "2022-04-14T02:38:33.66934Z"
        },
        "trusted": true,
        "id": "KcoKXn_qOkpF"
      },
      "execution_count": null,
      "outputs": []
    },
    {
      "cell_type": "code",
      "source": [
        "BUFFER_SIZE = 60000\n",
        "BATCH_SIZE = 256"
      ],
      "metadata": {
        "execution": {
          "iopub.status.busy": "2022-04-14T02:38:33.671889Z",
          "iopub.execute_input": "2022-04-14T02:38:33.672317Z",
          "iopub.status.idle": "2022-04-14T02:38:33.676104Z",
          "shell.execute_reply.started": "2022-04-14T02:38:33.67228Z",
          "shell.execute_reply": "2022-04-14T02:38:33.67537Z"
        },
        "trusted": true,
        "id": "sc4efsRGOkpF"
      },
      "execution_count": null,
      "outputs": []
    },
    {
      "cell_type": "code",
      "source": [
        "# Batch and shuffle the data\n",
        "train_dataset = tf.data.Dataset.from_tensor_slices(train_images).shuffle(BUFFER_SIZE).batch(BATCH_SIZE)"
      ],
      "metadata": {
        "execution": {
          "iopub.status.busy": "2022-04-14T02:38:33.6781Z",
          "iopub.execute_input": "2022-04-14T02:38:33.678735Z",
          "iopub.status.idle": "2022-04-14T02:38:34.000653Z",
          "shell.execute_reply.started": "2022-04-14T02:38:33.678698Z",
          "shell.execute_reply": "2022-04-14T02:38:33.999759Z"
        },
        "trusted": true,
        "id": "hbp8dSIOOkpG"
      },
      "execution_count": null,
      "outputs": []
    },
    {
      "cell_type": "code",
      "source": [
        "def make_generator_model():\n",
        "    model = tf.keras.Sequential()\n",
        "    model.add(layers.Dense(7*7*256, use_bias=False, input_shape=(100,)))\n",
        "    model.add(layers.BatchNormalization())\n",
        "    model.add(layers.LeakyReLU())\n",
        "\n",
        "    model.add(layers.Reshape((7, 7, 256)))\n",
        "    assert model.output_shape == (None, 7, 7, 256)  # Note: None is the batch size\n",
        "\n",
        "    model.add(layers.Conv2DTranspose(128, (5, 5), strides=(1, 1), padding='same', use_bias=False))\n",
        "    assert model.output_shape == (None, 7, 7, 128)\n",
        "    model.add(layers.BatchNormalization())\n",
        "    model.add(layers.LeakyReLU())\n",
        "\n",
        "    model.add(layers.Conv2DTranspose(64, (5, 5), strides=(2, 2), padding='same', use_bias=False))\n",
        "    assert model.output_shape == (None, 14, 14, 64)\n",
        "    model.add(layers.BatchNormalization())\n",
        "    model.add(layers.LeakyReLU())\n",
        "\n",
        "    model.add(layers.Conv2DTranspose(1, (5, 5), strides=(2, 2), padding='same', use_bias=False, activation='tanh'))\n",
        "    assert model.output_shape == (None, 28, 28, 1)\n",
        "\n",
        "    return model"
      ],
      "metadata": {
        "execution": {
          "iopub.status.busy": "2022-04-14T02:38:34.001842Z",
          "iopub.execute_input": "2022-04-14T02:38:34.002139Z",
          "iopub.status.idle": "2022-04-14T02:38:34.011977Z",
          "shell.execute_reply.started": "2022-04-14T02:38:34.002101Z",
          "shell.execute_reply": "2022-04-14T02:38:34.011294Z"
        },
        "trusted": true,
        "id": "uB276T3LOkpG"
      },
      "execution_count": null,
      "outputs": []
    },
    {
      "cell_type": "code",
      "source": [
        "generator = make_generator_model()\n",
        "\n",
        "noise = tf.random.normal([1, 100])\n",
        "generated_image = generator(noise, training=False)\n",
        "\n",
        "plt.imshow(generated_image[0, :, :, 0], cmap='gray')"
      ],
      "metadata": {
        "execution": {
          "iopub.status.busy": "2022-04-14T02:38:34.013501Z",
          "iopub.execute_input": "2022-04-14T02:38:34.013981Z",
          "iopub.status.idle": "2022-04-14T02:38:34.279827Z",
          "shell.execute_reply.started": "2022-04-14T02:38:34.013944Z",
          "shell.execute_reply": "2022-04-14T02:38:34.279092Z"
        },
        "trusted": true,
        "id": "xRPenyWlOkpH",
        "colab": {
          "base_uri": "https://localhost:8080/",
          "height": 282
        },
        "outputId": "231e98ca-a194-4855-df31-e4bb11792242"
      },
      "execution_count": null,
      "outputs": [
        {
          "output_type": "execute_result",
          "data": {
            "text/plain": [
              "<matplotlib.image.AxesImage at 0x7f14e4305190>"
            ]
          },
          "metadata": {},
          "execution_count": 7
        },
        {
          "output_type": "display_data",
          "data": {
            "text/plain": [
              "<Figure size 432x288 with 1 Axes>"
            ],
            "image/png": "[encoded data removed]"
          },
          "metadata": {
            "needs_background": "light"
          }
        }
      ]
    },
    {
      "cell_type": "code",
      "source": [
        "def make_discriminator_model():\n",
        "    model = tf.keras.Sequential()\n",
        "    model.add(layers.Conv2D(64, (5, 5), strides=(2, 2), padding='same',\n",
        "                                     input_shape=[28, 28, 1]))\n",
        "    model.add(layers.LeakyReLU())\n",
        "    model.add(layers.Dropout(0.3))\n",
        "\n",
        "    model.add(layers.Conv2D(128, (5, 5), strides=(2, 2), padding='same'))\n",
        "    model.add(layers.LeakyReLU())\n",
        "    model.add(layers.Dropout(0.3))\n",
        "\n",
        "    model.add(layers.Flatten())\n",
        "    model.add(layers.Dense(1))\n",
        "\n",
        "    return model"
      ],
      "metadata": {
        "execution": {
          "iopub.status.busy": "2022-04-14T02:38:34.28127Z",
          "iopub.execute_input": "2022-04-14T02:38:34.28149Z",
          "iopub.status.idle": "2022-04-14T02:38:34.288867Z",
          "shell.execute_reply.started": "2022-04-14T02:38:34.281459Z",
          "shell.execute_reply": "2022-04-14T02:38:34.287941Z"
        },
        "trusted": true,
        "id": "98ZlAH9SOkpI"
      },
      "execution_count": null,
      "outputs": []
    },
    {
      "cell_type": "code",
      "source": [
        "discriminator = make_discriminator_model()\n",
        "decision = discriminator(generated_image)\n",
        "print (decision)"
      ],
      "metadata": {
        "execution": {
          "iopub.status.busy": "2022-04-14T02:38:34.290454Z",
          "iopub.execute_input": "2022-04-14T02:38:34.290707Z",
          "iopub.status.idle": "2022-04-14T02:38:34.337723Z",
          "shell.execute_reply.started": "2022-04-14T02:38:34.290674Z",
          "shell.execute_reply": "2022-04-14T02:38:34.337016Z"
        },
        "trusted": true,
        "id": "KD62BFFKOkpI",
        "colab": {
          "base_uri": "https://localhost:8080/"
        },
        "outputId": "7058ab47-03ac-42fd-caa6-b201f9a63d13"
      },
      "execution_count": null,
      "outputs": [
        {
          "output_type": "stream",
          "name": "stdout",
          "text": [
            "tf.Tensor([[0.00057236]], shape=(1, 1), dtype=float32)\n"
          ]
        }
      ]
    },
    {
      "cell_type": "code",
      "source": [
        "# This method returns a helper function to compute cross entropy loss\n",
        "cross_entropy = tf.keras.losses.BinaryCrossentropy(from_logits=True)"
      ],
      "metadata": {
        "execution": {
          "iopub.status.busy": "2022-04-14T02:38:34.339032Z",
          "iopub.execute_input": "2022-04-14T02:38:34.339293Z",
          "iopub.status.idle": "2022-04-14T02:38:34.343671Z",
          "shell.execute_reply.started": "2022-04-14T02:38:34.339261Z",
          "shell.execute_reply": "2022-04-14T02:38:34.342764Z"
        },
        "trusted": true,
        "id": "m1dQGaVBOkpI"
      },
      "execution_count": null,
      "outputs": []
    },
    {
      "cell_type": "code",
      "source": [
        "def discriminator_loss(real_output, fake_output):\n",
        "    real_loss = cross_entropy(tf.ones_like(real_output), real_output)\n",
        "    fake_loss = cross_entropy(tf.zeros_like(fake_output), fake_output)\n",
        "    total_loss = real_loss + fake_loss\n",
        "    return total_loss"
      ],
      "metadata": {
        "execution": {
          "iopub.status.busy": "2022-04-14T02:38:34.347196Z",
          "iopub.execute_input": "2022-04-14T02:38:34.347584Z",
          "iopub.status.idle": "2022-04-14T02:38:34.353027Z",
          "shell.execute_reply.started": "2022-04-14T02:38:34.347547Z",
          "shell.execute_reply": "2022-04-14T02:38:34.35208Z"
        },
        "trusted": true,
        "id": "Qyjs9FFbOkpJ"
      },
      "execution_count": null,
      "outputs": []
    },
    {
      "cell_type": "code",
      "source": [
        "def generator_loss(fake_output):\n",
        "    return cross_entropy(tf.ones_like(fake_output), fake_output)"
      ],
      "metadata": {
        "execution": {
          "iopub.status.busy": "2022-04-14T02:38:34.354821Z",
          "iopub.execute_input": "2022-04-14T02:38:34.355124Z",
          "iopub.status.idle": "2022-04-14T02:38:34.364158Z",
          "shell.execute_reply.started": "2022-04-14T02:38:34.355088Z",
          "shell.execute_reply": "2022-04-14T02:38:34.363482Z"
        },
        "trusted": true,
        "id": "OGPsO8S1OkpJ"
      },
      "execution_count": null,
      "outputs": []
    },
    {
      "cell_type": "code",
      "source": [
        "generator_optimizer = tf.keras.optimizers.Adam(1e-4)\n",
        "discriminator_optimizer = tf.keras.optimizers.Adam(1e-4)"
      ],
      "metadata": {
        "execution": {
          "iopub.status.busy": "2022-04-14T02:38:34.365494Z",
          "iopub.execute_input": "2022-04-14T02:38:34.365749Z",
          "iopub.status.idle": "2022-04-14T02:38:34.372566Z",
          "shell.execute_reply.started": "2022-04-14T02:38:34.365714Z",
          "shell.execute_reply": "2022-04-14T02:38:34.371775Z"
        },
        "trusted": true,
        "id": "mDg0YFeZOkpK"
      },
      "execution_count": null,
      "outputs": []
    },
    {
      "cell_type": "code",
      "source": [
        "checkpoint_dir = './training_checkpoints'\n",
        "checkpoint_prefix = os.path.join(checkpoint_dir, \"ckpt\")\n",
        "checkpoint = tf.train.Checkpoint(generator_optimizer=generator_optimizer,\n",
        "                                 discriminator_optimizer=discriminator_optimizer,\n",
        "                                 generator=generator,\n",
        "                                 discriminator=discriminator)"
      ],
      "metadata": {
        "execution": {
          "iopub.status.busy": "2022-04-14T02:38:34.374016Z",
          "iopub.execute_input": "2022-04-14T02:38:34.374318Z",
          "iopub.status.idle": "2022-04-14T02:38:34.384412Z",
          "shell.execute_reply.started": "2022-04-14T02:38:34.374282Z",
          "shell.execute_reply": "2022-04-14T02:38:34.383743Z"
        },
        "trusted": true,
        "id": "deluFrWROkpK"
      },
      "execution_count": null,
      "outputs": []
    },
    {
      "cell_type": "code",
      "source": [
        "EPOCHS = 100\n",
        "noise_dim = 100\n",
        "num_examples_to_generate = 16\n",
        "\n",
        "# You will reuse this seed overtime (so it's easier)\n",
        "# to visualize progress in the animated GIF)\n",
        "seed = tf.random.normal([num_examples_to_generate, noise_dim])"
      ],
      "metadata": {
        "execution": {
          "iopub.status.busy": "2022-04-14T02:38:34.386147Z",
          "iopub.execute_input": "2022-04-14T02:38:34.386425Z",
          "iopub.status.idle": "2022-04-14T02:38:34.392976Z",
          "shell.execute_reply.started": "2022-04-14T02:38:34.386389Z",
          "shell.execute_reply": "2022-04-14T02:38:34.392249Z"
        },
        "trusted": true,
        "id": "hC4zUfTDOkpK"
      },
      "execution_count": null,
      "outputs": []
    },
    {
      "cell_type": "code",
      "source": [
        "# Notice the use of `tf.function`\n",
        "# This annotation causes the function to be \"compiled\".\n",
        "@tf.function\n",
        "def train_step(images):\n",
        "    noise = tf.random.normal([BATCH_SIZE, noise_dim])\n",
        "\n",
        "    with tf.GradientTape() as gen_tape, tf.GradientTape() as disc_tape:\n",
        "        generated_images = generator(noise, training=True)\n",
        "\n",
        "        real_output = discriminator(images, training=True)\n",
        "        fake_output = discriminator(generated_images, training=True)\n",
        "\n",
        "        gen_loss = generator_loss(fake_output)\n",
        "        disc_loss = discriminator_loss(real_output, fake_output)\n",
        "\n",
        "    gradients_of_generator = gen_tape.gradient(gen_loss, generator.trainable_variables)\n",
        "    gradients_of_discriminator = disc_tape.gradient(disc_loss, discriminator.trainable_variables)\n",
        "\n",
        "    generator_optimizer.apply_gradients(zip(gradients_of_generator, generator.trainable_variables))\n",
        "    discriminator_optimizer.apply_gradients(zip(gradients_of_discriminator, discriminator.trainable_variables))"
      ],
      "metadata": {
        "execution": {
          "iopub.status.busy": "2022-04-14T02:38:34.394198Z",
          "iopub.execute_input": "2022-04-14T02:38:34.394457Z",
          "iopub.status.idle": "2022-04-14T02:38:34.403011Z",
          "shell.execute_reply.started": "2022-04-14T02:38:34.394411Z",
          "shell.execute_reply": "2022-04-14T02:38:34.401912Z"
        },
        "trusted": true,
        "id": "UT0IXLmcOkpK"
      },
      "execution_count": null,
      "outputs": []
    },
    {
      "cell_type": "code",
      "source": [
        "def train(dataset, epochs):\n",
        "    for epoch in range(epochs):\n",
        "        start = time.time()\n",
        "\n",
        "        for image_batch in dataset:\n",
        "            train_step(image_batch)\n",
        "\n",
        "#         # Produce images for the GIF as you go\n",
        "#         display.clear_output(wait=True)\n",
        "#         generate_and_save_images(generator,\n",
        "#                                  epoch + 1,\n",
        "#                                  seed)\n",
        "\n",
        "        # Save the model every 15 epochs\n",
        "        if (epoch + 1) % 10 == 0:\n",
        "            checkpoint.save(file_prefix = checkpoint_prefix)\n",
        "\n",
        "            # Produce images for the GIF as you go\n",
        "            display.clear_output(wait=True)\n",
        "            generate_and_save_images(generator,\n",
        "                                 epoch + 1,\n",
        "                                 seed)\n",
        "            \n",
        "            print ('Time for epoch {} is {} sec'.format(epoch + 1, time.time()-start))\n",
        "\n",
        "       # Generate after the final epoch\n",
        "#         display.clear_output(wait=True)\n",
        "#         generate_and_save_images(generator,\n",
        "#                                  epochs,\n",
        "#                                  seed)"
      ],
      "metadata": {
        "execution": {
          "iopub.status.busy": "2022-04-14T02:38:34.404552Z",
          "iopub.execute_input": "2022-04-14T02:38:34.404798Z",
          "iopub.status.idle": "2022-04-14T02:38:34.412784Z",
          "shell.execute_reply.started": "2022-04-14T02:38:34.404764Z",
          "shell.execute_reply": "2022-04-14T02:38:34.4118Z"
        },
        "trusted": true,
        "id": "8BRttHWUOkpL"
      },
      "execution_count": null,
      "outputs": []
    },
    {
      "cell_type": "code",
      "source": [
        "def generate_and_save_images(model, epoch, test_input):\n",
        "  # Notice `training` is set to False.\n",
        "  # This is so all layers run in inference mode (batchnorm).\n",
        "    predictions = model(test_input, training=False)\n",
        "\n",
        "    fig = plt.figure(figsize=(4, 4))\n",
        "\n",
        "    for i in range(predictions.shape[0]):\n",
        "        plt.subplot(4, 4, i+1)\n",
        "        plt.imshow(predictions[i, :, :, 0] * 127.5 + 127.5, cmap='gray')\n",
        "        plt.axis('off')\n",
        "\n",
        "    plt.savefig('image_at_epoch_{}.png'.format(epoch))\n",
        "    plt.show()"
      ],
      "metadata": {
        "execution": {
          "iopub.status.busy": "2022-04-14T02:38:34.414376Z",
          "iopub.execute_input": "2022-04-14T02:38:34.414576Z",
          "iopub.status.idle": "2022-04-14T02:38:34.423941Z",
          "shell.execute_reply.started": "2022-04-14T02:38:34.414544Z",
          "shell.execute_reply": "2022-04-14T02:38:34.423121Z"
        },
        "trusted": true,
        "id": "jxxTUFTFOkpM"
      },
      "execution_count": null,
      "outputs": []
    },
    {
      "cell_type": "code",
      "source": [
        "from tensorflow.python.client import device_lib\n",
        "print(device_lib.list_local_devices())"
      ],
      "metadata": {
        "colab": {
          "base_uri": "https://localhost:8080/"
        },
        "id": "ZM48VtVPQIel",
        "outputId": "d8ec6249-df92-48a5-b202-4bc60c433c32"
      },
      "execution_count": null,
      "outputs": [
        {
          "output_type": "stream",
          "name": "stdout",
          "text": [
            "[name: \"/device:CPU:0\"\n",
            "device_type: \"CPU\"\n",
            "memory_limit: 268435456\n",
            "locality {\n",
            "}\n",
            "incarnation: 678444494146692844\n",
            "xla_global_id: -1\n",
            ", name: \"/device:GPU:0\"\n",
            "device_type: \"GPU\"\n",
            "memory_limit: 14465892352\n",
            "locality {\n",
            "  bus_id: 1\n",
            "  links {\n",
            "  }\n",
            "}\n",
            "incarnation: 512534548480348023\n",
            "physical_device_desc: \"device: 0, name: Tesla T4, pci bus id: 0000:00:04.0, compute capability: 7.5\"\n",
            "xla_global_id: 416903419\n",
            "]\n"
          ]
        }
      ]
    },
    {
      "cell_type": "code",
      "source": [
        "train(train_dataset, EPOCHS)"
      ],
      "metadata": {
        "execution": {
          "iopub.status.busy": "2022-04-14T02:38:34.425368Z",
          "iopub.execute_input": "2022-04-14T02:38:34.425632Z",
          "iopub.status.idle": "2022-04-14T02:49:06.825726Z",
          "shell.execute_reply.started": "2022-04-14T02:38:34.425596Z",
          "shell.execute_reply": "2022-04-14T02:49:06.825007Z"
        },
        "trusted": true,
        "id": "8xNugwgnOkpM",
        "colab": {
          "base_uri": "https://localhost:8080/",
          "height": 265
        },
        "outputId": "1f8f6e34-2fb6-4969-e57a-c9cdf03b2ca0"
      },
      "execution_count": null,
      "outputs": [
        {
          "output_type": "display_data",
          "data": {
            "text/plain": [
              "<Figure size 288x288 with 16 Axes>"
            ],
            "image/png": "[encoded data removed]"
          },
          "metadata": {
            "needs_background": "light"
          }
        },
        {
          "output_type": "stream",
          "name": "stdout",
          "text": [
            "Time for epoch 100 is 14.584673643112183 sec\n"
          ]
        }
      ]
    }
  ]
}