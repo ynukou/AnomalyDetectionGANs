{
  "nbformat": 4,
  "nbformat_minor": 0,
  "metadata": {
    "colab": {
      "name": "TSAD-MTAD-GAT.ipynb",
      "provenance": [],
      "collapsed_sections": [],
      "authorship_tag": "ABX9TyO6VI6yRD2mkIIdR/9C5GEW",
      "include_colab_link": true
    },
    "kernelspec": {
      "name": "python3",
      "display_name": "Python 3"
    },
    "language_info": {
      "name": "python"
    },
    "accelerator": "GPU",
    "gpuClass": "standard"
  },
  "cells": [
    {
      "cell_type": "markdown",
      "metadata": {
        "id": "view-in-github",
        "colab_type": "text"
      },
      "source": [
        "<a href=\"https://colab.research.google.com/github/ynukou/AnomalyDetectionGANs/blob/main/TSAD_MTAD_GAT.ipynb\" target=\"_parent\"><img src=\"https://colab.research.google.com/assets/colab-badge.svg\" alt=\"Open In Colab\"/></a>"
      ]
    },
    {
      "cell_type": "code",
      "execution_count": 1,
      "metadata": {
        "colab": {
          "base_uri": "https://localhost:8080/"
        },
        "id": "Spla92UdeeUd",
        "outputId": "374b4db9-ec87-4844-b00a-475b690a4933"
      },
      "outputs": [
        {
          "output_type": "stream",
          "name": "stdout",
          "text": [
            "Mounted at /content/drive\n"
          ]
        }
      ],
      "source": [
        "from google.colab import drive\n",
        "drive.mount('/content/drive')"
      ]
    },
    {
      "cell_type": "code",
      "source": [
        "%cd /content/drive/MyDrive/mtad-gat-pytorch"
      ],
      "metadata": {
        "colab": {
          "base_uri": "https://localhost:8080/"
        },
        "id": "4bPLvEpie5h5",
        "outputId": "f9b4153e-01ba-4839-dcb5-71c9dfb7b0b2"
      },
      "execution_count": 2,
      "outputs": [
        {
          "output_type": "stream",
          "name": "stdout",
          "text": [
            "/content/drive/MyDrive/mtad-gat-pytorch\n"
          ]
        }
      ]
    },
    {
      "cell_type": "code",
      "source": [
        "%ls"
      ],
      "metadata": {
        "colab": {
          "base_uri": "https://localhost:8080/"
        },
        "id": "MjxpOA2efRhK",
        "outputId": "b0573eea-7ec5-4df9-b7ce-ac31b7292b8f"
      },
      "execution_count": 3,
      "outputs": [
        {
          "output_type": "stream",
          "name": "stdout",
          "text": [
            "args.py          LICENSE      prediction.py  requirements.txt         utils.py\n",
            "\u001b[0m\u001b[01;34mbash_scripts\u001b[0m/    modules.py   predict.py     result_visualizer.ipynb\n",
            "\u001b[01;34mdatasets\u001b[0m/        mtad_gat.py  preprocess.py  spot.py\n",
            "eval_methods.py  \u001b[01;34moutput\u001b[0m/      \u001b[01;34m__pycache__\u001b[0m/   training.py\n",
            "\u001b[01;34mlicences\u001b[0m/        plotting.py  README.md      train.py\n"
          ]
        }
      ]
    },
    {
      "cell_type": "code",
      "source": [
        "import numpy as np\n",
        "import pandas as pd\n",
        "import matplotlib.pyplot as plt\n",
        "\n",
        "# show csv\n",
        "def visualize_timeserie(serie: pd.DataFrame, legend:bool = False) -> None:\n",
        "    fig, ax = plt.subplots(figsize=(15, 4))\n",
        "    serie.plot(ax=ax, legend=legend)\n",
        "    if legend:\n",
        "        plt.legend()\n",
        "    plt.show()\n",
        "\n",
        "\n",
        "DATA_PATH = '/content/drive/MyDrive/mtad-gat-pytorch/datasets/data/msl_train_md.csv'\n",
        "\n",
        "temp = pd.read_csv(\n",
        "    DATA_PATH, \n",
        "    parse_dates=True, \n",
        "    index_col='chan_id'\n",
        ")\n",
        "\n",
        "#print(temp.head())\n",
        "\n",
        "visualize_timeserie(temp,True)"
      ],
      "metadata": {
        "colab": {
          "base_uri": "https://localhost:8080/",
          "height": 284
        },
        "id": "VdK7gVgiKr2w",
        "outputId": "906e20b7-c783-40d6-e8db-026997afabf7"
      },
      "execution_count": 4,
      "outputs": [
        {
          "output_type": "display_data",
          "data": {
            "text/plain": [
              "<Figure size 1080x288 with 1 Axes>"
            ],
            "image/png": "[encoded data removed]"
          },
          "metadata": {
            "needs_background": "light"
          }
        }
      ]
    },
    {
      "cell_type": "code",
      "source": [
        "# 导入模块\n",
        "import numpy as np\n",
        "import pandas as pd\n",
        " \n",
        "# path处填入npy文件具体路径\n",
        "npfile = np.load(\"/content/drive/MyDrive/mtad-gat-pytorch/datasets/data/train/A-2.npy\")\n",
        "# 将npy文件的数据格式转化为csv格式\n",
        "np_to_csv = pd.DataFrame(data=npfile)\n",
        "# 存入具体目录下的np_to_csv.csv 文件\n",
        "np_to_csv.to_csv('/content/drive/MyDrive/mtad-gat-pytorch/datasets/social_attn.csv')\n",
        "\n"
      ],
      "metadata": {
        "id": "_qq6Wg94LDFh"
      },
      "execution_count": 5,
      "outputs": []
    },
    {
      "cell_type": "code",
      "source": [
        "%cat README.md"
      ],
      "metadata": {
        "id": "VJ29KiO4fUwG",
        "colab": {
          "base_uri": "https://localhost:8080/"
        },
        "outputId": "7f1202f7-8169-4cea-d45c-374ad5ab8c5f"
      },
      "execution_count": 6,
      "outputs": [
        {
          "output_type": "stream",
          "name": "stdout",
          "text": [
            "Our implementation of MTAD-GAT: Multivariate Time-series Anomaly Detection (MTAD) via Graph Attention Networks (GAT) by [Zhao et al. (2020)](https://arxiv.org/pdf/2009.02040.pdf).\r\n",
            "\r\n",
            "- This repo includes a complete framework for multivariate anomaly detection, using a model that is heavily inspired by MTAD-GAT.\r\n",
            "- Our work does not serve to reproduce the original results in the paper.\r\n",
            "- :email: For contact, feel free to use axel.harstad@gmail.com\r\n",
            "\r\n",
            "## :exclamation: Key Notes\r\n",
            "- By default we use the recently proposed [*GATv2*](https://arxiv.org/abs/2105.14491), but include the option to use the standard GAT\r\n",
            "- Instead of using a Variational Auto-Encoder (VAE) as the Reconstruction Model, we use a GRU-based decoder. \r\n",
            "- We provide implementations of the following thresholding methods, but their parameters should be customized to different datasets:\r\n",
            "  - peaks-over-threshold (POT) as in the MTAD-GAT paper\r\n",
            "  - thresholding method proposed by [Hundman et. al.](https://arxiv.org/abs/1802.04431)\r\n",
            "  - brute-force method that searches through \"all\" possible thresholds and picks the one that gives highest F1 score \r\n",
            "  - All methods are applied, and their respective results are outputted together for comparison.\r\n",
            "- Parts of our code should be credited to the following:\r\n",
            "  - [OmniAnomaly](https://github.com/NetManAIOps/OmniAnomaly) for preprocessing and evaluation methods and an implementation of POT\r\n",
            "  - [TelemAnom](https://github.com/khundman/telemanom) for plotting methods and thresholding method\r\n",
            "  - [pyGAT](https://github.com/Diego999/pyGAT) by Diego Antognini for inspiration on GAT-related methods \r\n",
            "  - Their respective licences are included in ```licences```.\r\n",
            "\r\n",
            "\r\n",
            "## :zap: Getting Started \r\n",
            "To clone the repo:\r\n",
            "```bash\r\n",
            "git clone https://github.com/ML4ITS/mtad-gat-pytorch.git && cd mtad-gat-pytorch\r\n",
            "```\r\n",
            "\r\n",
            "Get data:\r\n",
            "```bash\r\n",
            "cd datasets && wget https://s3-us-west-2.amazonaws.com/telemanom/data.zip && unzip data.zip && rm data.zip &&\r\n",
            "cd data && wget https://raw.githubusercontent.com/khundman/telemanom/master/labeled_anomalies.csv &&\r\n",
            "rm -rf 2018-05-19_15.00.10 && cd .. && cd ..\r\n",
            "\r\n",
            "```\r\n",
            "This downloads the MSL and SMAP datasets. The SMD dataset is already in repo. \r\n",
            "We refer to [TelemAnom](https://github.com/khundman/telemanom) and [OmniAnomaly](https://github.com/NetManAIOps/OmniAnomaly) for detailed information regarding these three datasets. \r\n",
            "\r\n",
            "Install dependencies (virtualenv is recommended):\r\n",
            "```bash\r\n",
            "pip install -r requirements.txt \r\n",
            "```\r\n",
            "\r\n",
            "Preprocess the data:\r\n",
            "```bash\r\n",
            "python preprocess.py --dataset <dataset>\r\n",
            "```\r\n",
            "where \\<dataset> is one of MSL, SMAP or SMD.\r\n",
            "\r\n",
            "To train:\r\n",
            "```bash\r\n",
            " python train.py --dataset <dataset>\r\n",
            "```\r\n",
            "where \\<dataset> is one of msl, smap or smd (upper-case also works). If training on SMD, one should specify which machine using the ``` --group``` argument.\r\n",
            "\r\n",
            "You can change the default configuration by adding more arguments. All arguments can be found in ```args.py```. Some examples:\r\n",
            "    \r\n",
            "- Training machine-1-1 of SMD for 10 epochs, using a lookback (window size) of 150:\r\n",
            "```bash \r\n",
            "python train.py --dataset smd --group 1-1 --lookback 150 --epochs 10 \r\n",
            "```\r\n",
            "  \r\n",
            "- Training MSL for 10 epochs, using standard GAT instead of GATv2 (which is the default), and a validation split of 0.2:\r\n",
            "```bash \r\n",
            "python train.py --dataset msl --epochs 10 --use_gatv2 False --val_split 0.2\r\n",
            "```\r\n",
            "\r\n",
            "### ⚙️ Default configuration:\r\n",
            "Default parameters can be found in ```args.py```.\r\n",
            "\r\n",
            "Data params: \r\n",
            "\r\n",
            "```--dataset='SMD'```\r\n",
            "```--group='1-1'```\r\n",
            "```--lookback=100```\r\n",
            "```--normalize=True```\r\n",
            "  \r\n",
            "Model params:\r\n",
            "\r\n",
            "```--kernel_size=7```\r\n",
            "```--use_gatv2=True```\r\n",
            "```--feat_gat_embed_dim=None```\r\n",
            "```--time_gat_embed_dim=None``` <br />\r\n",
            "```--gru_n_layers=1```\r\n",
            "```--gru_hid_dim=150```\r\n",
            "```--fc_n_layers=3```\r\n",
            "```--fc_hid_dim=150```\r\n",
            "```--recon_n_layers=1``` <br />\r\n",
            "```--recon_hid_dim=150```\r\n",
            "```--alpha=0.2```\r\n",
            "\r\n",
            "Train params:\r\n",
            "\r\n",
            "```--epochs=30```\r\n",
            "```--val_split=0.1```\r\n",
            "```--bs=256```\r\n",
            "```--init_lr=1e-3```\r\n",
            "```--shuffle_dataset=True```\r\n",
            "```--dropout=0.3```  <br />\r\n",
            "```--use_cuda=True```\r\n",
            "```--print_every=1```\r\n",
            "```--log_tensorboard=True```\r\n",
            "\r\n",
            "Anomaly Predictor params:\r\n",
            "\r\n",
            "```--save_scores=True```\r\n",
            "```--load_scores=False```\r\n",
            "```--gamma=1```\r\n",
            "```--level=None```\r\n",
            "```--q=1e-3```\r\n",
            "```--dynamic_pot=False```  <br />\r\n",
            "```--use_mov_av=False```\r\n",
            "\r\n",
            "  \r\n",
            "## :eyes: Output and visualization results\r\n",
            "Output are saved in ```output/<dataset>/<ID>``` (where the current datetime is used as ID) and include:\r\n",
            "  - ```summary.txt```: performance on test set (precision, recall, F1, etc.)\r\n",
            "  - ```config.txt```: the configuration used for model, training, etc. \r\n",
            "  - ```train/test.pkl```: saved forecasts, reconstructions, actual, thresholds, etc.\r\n",
            "  - ```train/test_scores.npy```: anomaly scores\r\n",
            "  - ```train/validation_losses.png```: plots of train and validation loss during training\r\n",
            "  - ```model.pt``` model parameters of trained model \r\n",
            "  \r\n",
            "This repo includes example outputs for MSL, SMAP and SMD machine 1-1.  \r\n",
            "\r\n",
            "```result_visualizer.ipynb``` provides a jupyter notebook for visualizing results. \r\n",
            "To launch notebook:\r\n",
            "```bash \r\n",
            "jupyter notebook result_visualizer.ipynb\r\n",
            "```\r\n",
            "\r\n",
            "Predicted anomalies are visualized using a blue rectangle. <br />\r\n",
            "Actual (true) anomalies are visualized using a red rectangle. <br />\r\n",
            "Thus, correctly predicted anomalies are visualized by a purple (blue + red) rectangle. <br />\r\n",
            "Some examples:\r\n",
            "\r\n",
            "SMD test set (feature 0) | SMD train set (feature 0)\r\n",
            "--- | --- \r\n",
            "<img src=\"https://i.imgur.com/AFCVhtF.png\" alt=\"drawing\" width=\"730\"/> | <img src=\"https://i.imgur.com/CJ6t8ST.png\" alt=\"drawing\" width=\"730\"/>\r\n",
            "\r\n",
            "\r\n",
            "Example from SMAP test set:\r\n",
            "<img src=\"https://i.imgur.com/XEzUNv7.png\" alt=\"drawing\"/>\r\n",
            "\r\n",
            "\r\n",
            "Example from MSL test set (note that one anomaly segment is not detected):\r\n",
            "<img src=\"https://i.imgur.com/h4DU3kE.png\" alt=\"drawing\"/>\r\n",
            "\r\n",
            "## 🧬 Model Overview\r\n",
            "\r\n",
            "<img src=\"https://i.imgur.com/s9FuPT4.png\" alt=\"drawing\"/>\r\n",
            "\r\n",
            "Figure above adapted from [Zhao et al. (2020)](https://arxiv.org/pdf/2009.02040.pdf)\r\n",
            "\r\n",
            "1. The raw input data is preprocessed, and then a 1-D convolution is applied in the temporal dimension in order to smooth the data and alleviate possible noise effects.\r\n",
            "2. The output of the 1-D convolution module is processed by two parallel graph attention layer, one feature-oriented and one time-oriented, in order to capture dependencies among features and timestamps, respectively.\r\n",
            "3. The output from the 1-D convolution module and the two GAT modules are concatenated and fed to a GRU layer, to capture longer sequential patterns.\r\n",
            "4. The output from the GRU layer are fed into a forecasting model and a reconstruction model, to get a prediction for the next timestamp, as well as a reconstruction of the input sequence.\r\n",
            "  \r\n",
            "## 📖 GAT layers\r\n",
            "Below we visualize how the two GAT layers view the input as a complete graph. \r\n",
            "\r\n",
            "Feature-Oriented GAT layer | Time-Oriented GAT layer\r\n",
            "--- | --- \r\n",
            "<img src=\"https://i.imgur.com/wVD8oIx.png\" alt=\"drawing\" width=\"700\"/> | <img src=\"https://i.imgur.com/a9PsNB0.png\" alt=\"drawing\" width=\"730\"/>\r\n",
            "\r\n",
            "**Left**: The feature-oriented GAT layer views the input data as a complete graph where each node represents the values of one feature across all timestamps in the sliding window. \r\n",
            "\r\n",
            "**Right**: The time-oriented GAT layer views the input data as a complete graph in which each node represents the values for all features at a specific timestamp.\r\n",
            "\r\n",
            "## 📖 GATv2\r\n",
            "Recently, Brody et al. (2021) proposed [*GATv2*](https://arxiv.org/abs/2105.14491), a modified version of the standard GAT.\r\n",
            "\r\n",
            "They argue that the original GAT can only compute a restricted kind of attention (which they refer to as static) where the ranking of attended nodes is unconditioned on the query node. That is, the ranking of attention weights is global for all nodes in the graph, a property which the authors claim to severely hinders the expressiveness of the GAT. In order to address this, they introduce a simple fix by modifying the order of operations, and propose GATv2, a dynamic attention variant that is strictly more expressive that GAT. We refer to the paper for further reading. The difference between GAT and GATv2 is depicted below:\r\n",
            "\r\n",
            "<img src=\"https://i.imgur.com/agPNXBy.png\" alt=\"drawing\" width=\"700\"/> \r\n",
            "\r\n",
            "\r\n",
            "\r\n",
            "\r\n",
            "\r\n",
            "\r\n",
            "\r\n",
            "\r\n",
            "\r\n",
            "\r\n",
            "\r\n"
          ]
        }
      ]
    },
    {
      "cell_type": "code",
      "source": [
        "%cd datasets"
      ],
      "metadata": {
        "colab": {
          "base_uri": "https://localhost:8080/"
        },
        "id": "ZsKi2C58je1x",
        "outputId": "15b2f08f-bb98-44de-a8d3-ccbf0baba617"
      },
      "execution_count": 7,
      "outputs": [
        {
          "output_type": "stream",
          "name": "stdout",
          "text": [
            "/content/drive/MyDrive/mtad-gat-pytorch/datasets\n"
          ]
        }
      ]
    },
    {
      "cell_type": "code",
      "source": [
        "!wget https://s3-us-west-2.amazonaws.com/telemanom/data.zip && unzip data.zip && rm data.zip"
      ],
      "metadata": {
        "id": "8uuAenqjjMu1",
        "colab": {
          "base_uri": "https://localhost:8080/"
        },
        "outputId": "92581f0d-624c-4e1c-a38a-af8687eaf864"
      },
      "execution_count": 8,
      "outputs": [
        {
          "output_type": "stream",
          "name": "stdout",
          "text": [
            "--2022-06-23 07:51:30--  https://s3-us-west-2.amazonaws.com/telemanom/data.zip\n",
            "Resolving s3-us-west-2.amazonaws.com (s3-us-west-2.amazonaws.com)... 52.218.197.0\n",
            "Connecting to s3-us-west-2.amazonaws.com (s3-us-west-2.amazonaws.com)|52.218.197.0|:443... connected.\n",
            "HTTP request sent, awaiting response... 200 OK\n",
            "Length: 85899803 (82M) [application/zip]\n",
            "Saving to: ‘data.zip’\n",
            "\n",
            "data.zip            100%[===================>]  81.92M  24.6MB/s    in 3.8s    \n",
            "\n",
            "2022-06-23 07:51:34 (21.7 MB/s) - ‘data.zip’ saved [85899803/85899803]\n",
            "\n",
            "Archive:  data.zip\n",
            "   creating: data/2018-05-19_15.00.10/\n",
            "   creating: data/2018-05-19_15.00.10/models/\n",
            "  inflating: data/2018-05-19_15.00.10/models/A-1.h5  \n",
            "  inflating: data/2018-05-19_15.00.10/models/A-2.h5  \n",
            "  inflating: data/2018-05-19_15.00.10/models/A-3.h5  \n",
            "  inflating: data/2018-05-19_15.00.10/models/A-4.h5  \n",
            "  inflating: data/2018-05-19_15.00.10/models/A-5.h5  \n",
            "  inflating: data/2018-05-19_15.00.10/models/A-6.h5  \n",
            "  inflating: data/2018-05-19_15.00.10/models/A-7.h5  \n",
            "  inflating: data/2018-05-19_15.00.10/models/A-8.h5  \n",
            "  inflating: data/2018-05-19_15.00.10/models/A-9.h5  \n",
            "  inflating: data/2018-05-19_15.00.10/models/B-1.h5  \n",
            "  inflating: data/2018-05-19_15.00.10/models/C-1.h5  \n",
            "  inflating: data/2018-05-19_15.00.10/models/C-2.h5  \n",
            "  inflating: data/2018-05-19_15.00.10/models/D-1.h5  \n",
            "  inflating: data/2018-05-19_15.00.10/models/D-11.h5  \n",
            "  inflating: data/2018-05-19_15.00.10/models/D-12.h5  \n",
            "  inflating: data/2018-05-19_15.00.10/models/D-13.h5  \n",
            "  inflating: data/2018-05-19_15.00.10/models/D-14.h5  \n",
            "  inflating: data/2018-05-19_15.00.10/models/D-15.h5  \n",
            "  inflating: data/2018-05-19_15.00.10/models/D-16.h5  \n",
            "  inflating: data/2018-05-19_15.00.10/models/D-2.h5  \n",
            "  inflating: data/2018-05-19_15.00.10/models/D-3.h5  \n",
            "  inflating: data/2018-05-19_15.00.10/models/D-4.h5  \n",
            "  inflating: data/2018-05-19_15.00.10/models/D-5.h5  \n",
            "  inflating: data/2018-05-19_15.00.10/models/D-6.h5  \n",
            "  inflating: data/2018-05-19_15.00.10/models/D-7.h5  \n",
            "  inflating: data/2018-05-19_15.00.10/models/D-8.h5  \n",
            "  inflating: data/2018-05-19_15.00.10/models/D-9.h5  \n",
            "  inflating: data/2018-05-19_15.00.10/models/E-1.h5  \n",
            "  inflating: data/2018-05-19_15.00.10/models/E-10.h5  \n",
            "  inflating: data/2018-05-19_15.00.10/models/E-11.h5  \n",
            "  inflating: data/2018-05-19_15.00.10/models/E-12.h5  \n",
            "  inflating: data/2018-05-19_15.00.10/models/E-13.h5  \n",
            "  inflating: data/2018-05-19_15.00.10/models/E-2.h5  \n",
            "  inflating: data/2018-05-19_15.00.10/models/E-3.h5  \n",
            "  inflating: data/2018-05-19_15.00.10/models/E-4.h5  \n",
            "  inflating: data/2018-05-19_15.00.10/models/E-5.h5  \n",
            "  inflating: data/2018-05-19_15.00.10/models/E-6.h5  \n",
            "  inflating: data/2018-05-19_15.00.10/models/E-7.h5  \n",
            "  inflating: data/2018-05-19_15.00.10/models/E-8.h5  \n",
            "  inflating: data/2018-05-19_15.00.10/models/E-9.h5  \n",
            "  inflating: data/2018-05-19_15.00.10/models/F-1.h5  \n",
            "  inflating: data/2018-05-19_15.00.10/models/F-2.h5  \n",
            "  inflating: data/2018-05-19_15.00.10/models/F-3.h5  \n",
            "  inflating: data/2018-05-19_15.00.10/models/F-4.h5  \n",
            "  inflating: data/2018-05-19_15.00.10/models/F-5.h5  \n",
            "  inflating: data/2018-05-19_15.00.10/models/F-7.h5  \n",
            "  inflating: data/2018-05-19_15.00.10/models/F-8.h5  \n",
            "  inflating: data/2018-05-19_15.00.10/models/G-1.h5  \n",
            "  inflating: data/2018-05-19_15.00.10/models/G-2.h5  \n",
            "  inflating: data/2018-05-19_15.00.10/models/G-3.h5  \n",
            "  inflating: data/2018-05-19_15.00.10/models/G-4.h5  \n",
            "  inflating: data/2018-05-19_15.00.10/models/G-6.h5  \n",
            "  inflating: data/2018-05-19_15.00.10/models/G-7.h5  \n",
            "  inflating: data/2018-05-19_15.00.10/models/M-1.h5  \n",
            "  inflating: data/2018-05-19_15.00.10/models/M-2.h5  \n",
            "  inflating: data/2018-05-19_15.00.10/models/M-3.h5  \n",
            "  inflating: data/2018-05-19_15.00.10/models/M-4.h5  \n",
            "  inflating: data/2018-05-19_15.00.10/models/M-5.h5  \n",
            "  inflating: data/2018-05-19_15.00.10/models/M-6.h5  \n",
            "  inflating: data/2018-05-19_15.00.10/models/M-7.h5  \n",
            "  inflating: data/2018-05-19_15.00.10/models/P-1.h5  \n",
            "  inflating: data/2018-05-19_15.00.10/models/P-10.h5  \n",
            "  inflating: data/2018-05-19_15.00.10/models/P-11.h5  \n",
            "  inflating: data/2018-05-19_15.00.10/models/P-14.h5  \n",
            "  inflating: data/2018-05-19_15.00.10/models/P-15.h5  \n",
            "  inflating: data/2018-05-19_15.00.10/models/P-2.h5  \n",
            "  inflating: data/2018-05-19_15.00.10/models/P-3.h5  \n",
            "  inflating: data/2018-05-19_15.00.10/models/P-4.h5  \n",
            "  inflating: data/2018-05-19_15.00.10/models/P-7.h5  \n",
            "  inflating: data/2018-05-19_15.00.10/models/R-1.h5  \n",
            "  inflating: data/2018-05-19_15.00.10/models/S-1.h5  \n",
            "  inflating: data/2018-05-19_15.00.10/models/S-2.h5  \n",
            "  inflating: data/2018-05-19_15.00.10/models/T-1.h5  \n",
            "  inflating: data/2018-05-19_15.00.10/models/T-10.h5  \n",
            "  inflating: data/2018-05-19_15.00.10/models/T-12.h5  \n",
            "  inflating: data/2018-05-19_15.00.10/models/T-13.h5  \n",
            "  inflating: data/2018-05-19_15.00.10/models/T-2.h5  \n",
            "  inflating: data/2018-05-19_15.00.10/models/T-3.h5  \n",
            "  inflating: data/2018-05-19_15.00.10/models/T-4.h5  \n",
            "  inflating: data/2018-05-19_15.00.10/models/T-5.h5  \n",
            "  inflating: data/2018-05-19_15.00.10/models/T-8.h5  \n",
            "  inflating: data/2018-05-19_15.00.10/models/T-9.h5  \n",
            "  inflating: data/2018-05-19_15.00.10/params.log  \n",
            "   creating: data/2018-05-19_15.00.10/smoothed_errors/\n",
            "  inflating: data/2018-05-19_15.00.10/smoothed_errors/A-1.npy  \n",
            "  inflating: data/2018-05-19_15.00.10/smoothed_errors/A-2.npy  \n",
            "  inflating: data/2018-05-19_15.00.10/smoothed_errors/A-3.npy  \n",
            "  inflating: data/2018-05-19_15.00.10/smoothed_errors/A-4.npy  \n",
            "  inflating: data/2018-05-19_15.00.10/smoothed_errors/A-5.npy  \n",
            "  inflating: data/2018-05-19_15.00.10/smoothed_errors/A-6.npy  \n",
            "  inflating: data/2018-05-19_15.00.10/smoothed_errors/A-7.npy  \n",
            "  inflating: data/2018-05-19_15.00.10/smoothed_errors/A-8.npy  \n",
            "  inflating: data/2018-05-19_15.00.10/smoothed_errors/A-9.npy  \n",
            "  inflating: data/2018-05-19_15.00.10/smoothed_errors/B-1.npy  \n",
            "  inflating: data/2018-05-19_15.00.10/smoothed_errors/C-1.npy  \n",
            "  inflating: data/2018-05-19_15.00.10/smoothed_errors/C-2.npy  \n",
            "  inflating: data/2018-05-19_15.00.10/smoothed_errors/D-1.npy  \n",
            "  inflating: data/2018-05-19_15.00.10/smoothed_errors/D-11.npy  \n",
            "  inflating: data/2018-05-19_15.00.10/smoothed_errors/D-12.npy  \n",
            "  inflating: data/2018-05-19_15.00.10/smoothed_errors/D-13.npy  \n",
            "  inflating: data/2018-05-19_15.00.10/smoothed_errors/D-14.npy  \n",
            "  inflating: data/2018-05-19_15.00.10/smoothed_errors/D-15.npy  \n",
            "  inflating: data/2018-05-19_15.00.10/smoothed_errors/D-16.npy  \n",
            "  inflating: data/2018-05-19_15.00.10/smoothed_errors/D-2.npy  \n",
            "  inflating: data/2018-05-19_15.00.10/smoothed_errors/D-3.npy  \n",
            "  inflating: data/2018-05-19_15.00.10/smoothed_errors/D-4.npy  \n",
            "  inflating: data/2018-05-19_15.00.10/smoothed_errors/D-5.npy  \n",
            "  inflating: data/2018-05-19_15.00.10/smoothed_errors/D-6.npy  \n",
            "  inflating: data/2018-05-19_15.00.10/smoothed_errors/D-7.npy  \n",
            "  inflating: data/2018-05-19_15.00.10/smoothed_errors/D-8.npy  \n",
            "  inflating: data/2018-05-19_15.00.10/smoothed_errors/D-9.npy  \n",
            "  inflating: data/2018-05-19_15.00.10/smoothed_errors/E-1.npy  \n",
            "  inflating: data/2018-05-19_15.00.10/smoothed_errors/E-10.npy  \n",
            "  inflating: data/2018-05-19_15.00.10/smoothed_errors/E-11.npy  \n",
            "  inflating: data/2018-05-19_15.00.10/smoothed_errors/E-12.npy  \n",
            "  inflating: data/2018-05-19_15.00.10/smoothed_errors/E-13.npy  \n",
            "  inflating: data/2018-05-19_15.00.10/smoothed_errors/E-2.npy  \n",
            "  inflating: data/2018-05-19_15.00.10/smoothed_errors/E-3.npy  \n",
            "  inflating: data/2018-05-19_15.00.10/smoothed_errors/E-4.npy  \n",
            "  inflating: data/2018-05-19_15.00.10/smoothed_errors/E-5.npy  \n",
            "  inflating: data/2018-05-19_15.00.10/smoothed_errors/E-6.npy  \n",
            "  inflating: data/2018-05-19_15.00.10/smoothed_errors/E-7.npy  \n",
            "  inflating: data/2018-05-19_15.00.10/smoothed_errors/E-8.npy  \n",
            "  inflating: data/2018-05-19_15.00.10/smoothed_errors/E-9.npy  \n",
            "  inflating: data/2018-05-19_15.00.10/smoothed_errors/F-1.npy  \n",
            "  inflating: data/2018-05-19_15.00.10/smoothed_errors/F-2.npy  \n",
            "  inflating: data/2018-05-19_15.00.10/smoothed_errors/F-3.npy  \n",
            "  inflating: data/2018-05-19_15.00.10/smoothed_errors/F-4.npy  \n",
            "  inflating: data/2018-05-19_15.00.10/smoothed_errors/F-5.npy  \n",
            "  inflating: data/2018-05-19_15.00.10/smoothed_errors/F-7.npy  \n",
            "  inflating: data/2018-05-19_15.00.10/smoothed_errors/F-8.npy  \n",
            "  inflating: data/2018-05-19_15.00.10/smoothed_errors/G-1.npy  \n",
            "  inflating: data/2018-05-19_15.00.10/smoothed_errors/G-2.npy  \n",
            "  inflating: data/2018-05-19_15.00.10/smoothed_errors/G-3.npy  \n",
            "  inflating: data/2018-05-19_15.00.10/smoothed_errors/G-4.npy  \n",
            "  inflating: data/2018-05-19_15.00.10/smoothed_errors/G-6.npy  \n",
            "  inflating: data/2018-05-19_15.00.10/smoothed_errors/G-7.npy  \n",
            "  inflating: data/2018-05-19_15.00.10/smoothed_errors/M-1.npy  \n",
            "  inflating: data/2018-05-19_15.00.10/smoothed_errors/M-2.npy  \n",
            "  inflating: data/2018-05-19_15.00.10/smoothed_errors/M-3.npy  \n",
            "  inflating: data/2018-05-19_15.00.10/smoothed_errors/M-4.npy  \n",
            "  inflating: data/2018-05-19_15.00.10/smoothed_errors/M-5.npy  \n",
            "  inflating: data/2018-05-19_15.00.10/smoothed_errors/M-6.npy  \n",
            "  inflating: data/2018-05-19_15.00.10/smoothed_errors/M-7.npy  \n",
            "  inflating: data/2018-05-19_15.00.10/smoothed_errors/P-1.npy  \n",
            "  inflating: data/2018-05-19_15.00.10/smoothed_errors/P-10.npy  \n",
            "  inflating: data/2018-05-19_15.00.10/smoothed_errors/P-11.npy  \n",
            "  inflating: data/2018-05-19_15.00.10/smoothed_errors/P-14.npy  \n",
            "  inflating: data/2018-05-19_15.00.10/smoothed_errors/P-15.npy  \n",
            "  inflating: data/2018-05-19_15.00.10/smoothed_errors/P-2.npy  \n",
            "  inflating: data/2018-05-19_15.00.10/smoothed_errors/P-3.npy  \n",
            "  inflating: data/2018-05-19_15.00.10/smoothed_errors/P-4.npy  \n",
            "  inflating: data/2018-05-19_15.00.10/smoothed_errors/P-7.npy  \n",
            "  inflating: data/2018-05-19_15.00.10/smoothed_errors/R-1.npy  \n",
            "  inflating: data/2018-05-19_15.00.10/smoothed_errors/S-1.npy  \n",
            "  inflating: data/2018-05-19_15.00.10/smoothed_errors/S-2.npy  \n",
            "  inflating: data/2018-05-19_15.00.10/smoothed_errors/T-1.npy  \n",
            "  inflating: data/2018-05-19_15.00.10/smoothed_errors/T-10.npy  \n",
            "  inflating: data/2018-05-19_15.00.10/smoothed_errors/T-12.npy  \n",
            "  inflating: data/2018-05-19_15.00.10/smoothed_errors/T-13.npy  \n",
            "  inflating: data/2018-05-19_15.00.10/smoothed_errors/T-2.npy  \n",
            "  inflating: data/2018-05-19_15.00.10/smoothed_errors/T-3.npy  \n",
            "  inflating: data/2018-05-19_15.00.10/smoothed_errors/T-4.npy  \n",
            "  inflating: data/2018-05-19_15.00.10/smoothed_errors/T-5.npy  \n",
            "  inflating: data/2018-05-19_15.00.10/smoothed_errors/T-8.npy  \n",
            "  inflating: data/2018-05-19_15.00.10/smoothed_errors/T-9.npy  \n",
            "   creating: data/2018-05-19_15.00.10/y_hat/\n",
            "  inflating: data/2018-05-19_15.00.10/y_hat/A-1.npy  \n",
            "  inflating: data/2018-05-19_15.00.10/y_hat/A-2.npy  \n",
            "  inflating: data/2018-05-19_15.00.10/y_hat/A-3.npy  \n",
            "  inflating: data/2018-05-19_15.00.10/y_hat/A-4.npy  \n",
            "  inflating: data/2018-05-19_15.00.10/y_hat/A-5.npy  \n",
            "  inflating: data/2018-05-19_15.00.10/y_hat/A-6.npy  \n",
            "  inflating: data/2018-05-19_15.00.10/y_hat/A-7.npy  \n",
            "  inflating: data/2018-05-19_15.00.10/y_hat/A-8.npy  \n",
            "  inflating: data/2018-05-19_15.00.10/y_hat/A-9.npy  \n",
            "  inflating: data/2018-05-19_15.00.10/y_hat/B-1.npy  \n",
            "  inflating: data/2018-05-19_15.00.10/y_hat/C-1.npy  \n",
            "  inflating: data/2018-05-19_15.00.10/y_hat/C-2.npy  \n",
            "  inflating: data/2018-05-19_15.00.10/y_hat/D-1.npy  \n",
            "  inflating: data/2018-05-19_15.00.10/y_hat/D-11.npy  \n",
            "  inflating: data/2018-05-19_15.00.10/y_hat/D-12.npy  \n",
            "  inflating: data/2018-05-19_15.00.10/y_hat/D-13.npy  \n",
            "  inflating: data/2018-05-19_15.00.10/y_hat/D-14.npy  \n",
            "  inflating: data/2018-05-19_15.00.10/y_hat/D-15.npy  \n",
            "  inflating: data/2018-05-19_15.00.10/y_hat/D-16.npy  \n",
            "  inflating: data/2018-05-19_15.00.10/y_hat/D-2.npy  \n",
            "  inflating: data/2018-05-19_15.00.10/y_hat/D-3.npy  \n",
            "  inflating: data/2018-05-19_15.00.10/y_hat/D-4.npy  \n",
            "  inflating: data/2018-05-19_15.00.10/y_hat/D-5.npy  \n",
            "  inflating: data/2018-05-19_15.00.10/y_hat/D-6.npy  \n",
            "  inflating: data/2018-05-19_15.00.10/y_hat/D-7.npy  \n",
            "  inflating: data/2018-05-19_15.00.10/y_hat/D-8.npy  \n",
            "  inflating: data/2018-05-19_15.00.10/y_hat/D-9.npy  \n",
            "  inflating: data/2018-05-19_15.00.10/y_hat/E-1.npy  \n",
            "  inflating: data/2018-05-19_15.00.10/y_hat/E-10.npy  \n",
            "  inflating: data/2018-05-19_15.00.10/y_hat/E-11.npy  \n",
            "  inflating: data/2018-05-19_15.00.10/y_hat/E-12.npy  \n",
            "  inflating: data/2018-05-19_15.00.10/y_hat/E-13.npy  \n",
            "  inflating: data/2018-05-19_15.00.10/y_hat/E-2.npy  \n",
            "  inflating: data/2018-05-19_15.00.10/y_hat/E-3.npy  \n",
            "  inflating: data/2018-05-19_15.00.10/y_hat/E-4.npy  \n",
            "  inflating: data/2018-05-19_15.00.10/y_hat/E-5.npy  \n",
            "  inflating: data/2018-05-19_15.00.10/y_hat/E-6.npy  \n",
            "  inflating: data/2018-05-19_15.00.10/y_hat/E-7.npy  \n",
            "  inflating: data/2018-05-19_15.00.10/y_hat/E-8.npy  \n",
            "  inflating: data/2018-05-19_15.00.10/y_hat/E-9.npy  \n",
            "  inflating: data/2018-05-19_15.00.10/y_hat/F-1.npy  \n",
            "  inflating: data/2018-05-19_15.00.10/y_hat/F-2.npy  \n",
            "  inflating: data/2018-05-19_15.00.10/y_hat/F-3.npy  \n",
            "  inflating: data/2018-05-19_15.00.10/y_hat/F-4.npy  \n",
            "  inflating: data/2018-05-19_15.00.10/y_hat/F-5.npy  \n",
            "  inflating: data/2018-05-19_15.00.10/y_hat/F-7.npy  \n",
            "  inflating: data/2018-05-19_15.00.10/y_hat/F-8.npy  \n",
            "  inflating: data/2018-05-19_15.00.10/y_hat/G-1.npy  \n",
            "  inflating: data/2018-05-19_15.00.10/y_hat/G-2.npy  \n",
            "  inflating: data/2018-05-19_15.00.10/y_hat/G-3.npy  \n",
            "  inflating: data/2018-05-19_15.00.10/y_hat/G-4.npy  \n",
            "  inflating: data/2018-05-19_15.00.10/y_hat/G-6.npy  \n",
            "  inflating: data/2018-05-19_15.00.10/y_hat/G-7.npy  \n",
            "  inflating: data/2018-05-19_15.00.10/y_hat/M-1.npy  \n",
            "  inflating: data/2018-05-19_15.00.10/y_hat/M-2.npy  \n",
            "  inflating: data/2018-05-19_15.00.10/y_hat/M-3.npy  \n",
            "  inflating: data/2018-05-19_15.00.10/y_hat/M-4.npy  \n",
            "  inflating: data/2018-05-19_15.00.10/y_hat/M-5.npy  \n",
            "  inflating: data/2018-05-19_15.00.10/y_hat/M-6.npy  \n",
            "  inflating: data/2018-05-19_15.00.10/y_hat/M-7.npy  \n",
            "  inflating: data/2018-05-19_15.00.10/y_hat/P-1.npy  \n",
            "  inflating: data/2018-05-19_15.00.10/y_hat/P-10.npy  \n",
            "  inflating: data/2018-05-19_15.00.10/y_hat/P-11.npy  \n",
            "  inflating: data/2018-05-19_15.00.10/y_hat/P-14.npy  \n",
            "  inflating: data/2018-05-19_15.00.10/y_hat/P-15.npy  \n",
            "  inflating: data/2018-05-19_15.00.10/y_hat/P-2.npy  \n",
            "  inflating: data/2018-05-19_15.00.10/y_hat/P-3.npy  \n",
            "  inflating: data/2018-05-19_15.00.10/y_hat/P-4.npy  \n",
            "  inflating: data/2018-05-19_15.00.10/y_hat/P-7.npy  \n",
            "  inflating: data/2018-05-19_15.00.10/y_hat/R-1.npy  \n",
            "  inflating: data/2018-05-19_15.00.10/y_hat/S-1.npy  \n",
            "  inflating: data/2018-05-19_15.00.10/y_hat/S-2.npy  \n",
            "  inflating: data/2018-05-19_15.00.10/y_hat/T-1.npy  \n",
            "  inflating: data/2018-05-19_15.00.10/y_hat/T-10.npy  \n",
            "  inflating: data/2018-05-19_15.00.10/y_hat/T-12.npy  \n",
            "  inflating: data/2018-05-19_15.00.10/y_hat/T-13.npy  \n",
            "  inflating: data/2018-05-19_15.00.10/y_hat/T-2.npy  \n",
            "  inflating: data/2018-05-19_15.00.10/y_hat/T-3.npy  \n",
            "  inflating: data/2018-05-19_15.00.10/y_hat/T-4.npy  \n",
            "  inflating: data/2018-05-19_15.00.10/y_hat/T-5.npy  \n",
            "  inflating: data/2018-05-19_15.00.10/y_hat/T-8.npy  \n",
            "  inflating: data/2018-05-19_15.00.10/y_hat/T-9.npy  \n",
            "replace data/test/A-1.npy? [y]es, [n]o, [A]ll, [N]one, [r]ename: y\n",
            "  inflating: data/test/A-1.npy       \n",
            "replace data/test/A-2.npy? [y]es, [n]o, [A]ll, [N]one, [r]ename: y\n",
            "  inflating: data/test/A-2.npy       \n",
            "replace data/test/A-3.npy? [y]es, [n]o, [A]ll, [N]one, [r]ename: y\n",
            "  inflating: data/test/A-3.npy       \n",
            "replace data/test/A-4.npy? [y]es, [n]o, [A]ll, [N]one, [r]ename: y\n",
            "  inflating: data/test/A-4.npy       \n",
            "replace data/test/A-5.npy? [y]es, [n]o, [A]ll, [N]one, [r]ename: y\n",
            "  inflating: data/test/A-5.npy       \n",
            "replace data/test/A-6.npy? [y]es, [n]o, [A]ll, [N]one, [r]ename: ll\n",
            "error:  invalid response [ll]\n",
            "replace data/test/A-6.npy? [y]es, [n]o, [A]ll, [N]one, [r]ename: "
          ]
        }
      ]
    },
    {
      "cell_type": "code",
      "source": [
        "%cd data"
      ],
      "metadata": {
        "colab": {
          "base_uri": "https://localhost:8080/"
        },
        "id": "6hsdP_mGiClW",
        "outputId": "4c29141e-8c0d-4c9f-9f0d-ab42e93c88ec"
      },
      "execution_count": 9,
      "outputs": [
        {
          "output_type": "stream",
          "name": "stdout",
          "text": [
            "/content/drive/MyDrive/mtad-gat-pytorch/datasets/data\n"
          ]
        }
      ]
    },
    {
      "cell_type": "code",
      "source": [
        "!wget https://raw.githubusercontent.com/khundman/telemanom/master/labeled_anomalies.csv"
      ],
      "metadata": {
        "colab": {
          "base_uri": "https://localhost:8080/"
        },
        "id": "A1U9FX94j-Sh",
        "outputId": "861eb32a-6331-4421-990a-daa6d302808d"
      },
      "execution_count": 10,
      "outputs": [
        {
          "output_type": "stream",
          "name": "stdout",
          "text": [
            "--2022-06-23 07:53:16--  https://raw.githubusercontent.com/khundman/telemanom/master/labeled_anomalies.csv\n",
            "Resolving raw.githubusercontent.com (raw.githubusercontent.com)... 185.199.109.133, 185.199.108.133, 185.199.110.133, ...\n",
            "Connecting to raw.githubusercontent.com (raw.githubusercontent.com)|185.199.109.133|:443... connected.\n",
            "HTTP request sent, awaiting response... 200 OK\n",
            "Length: 3956 (3.9K) [text/plain]\n",
            "Saving to: ‘labeled_anomalies.csv.1’\n",
            "\n",
            "\rlabeled_anomalies.c   0%[                    ]       0  --.-KB/s               \rlabeled_anomalies.c 100%[===================>]   3.86K  --.-KB/s    in 0.001s  \n",
            "\n",
            "2022-06-23 07:53:16 (4.20 MB/s) - ‘labeled_anomalies.csv.1’ saved [3956/3956]\n",
            "\n"
          ]
        }
      ]
    },
    {
      "cell_type": "code",
      "source": [
        "!rm -rf 2018-05-19_15.00.10"
      ],
      "metadata": {
        "id": "l2YMTebPlGxT"
      },
      "execution_count": 11,
      "outputs": []
    },
    {
      "cell_type": "code",
      "source": [
        "%cd ..\n",
        "%cd .."
      ],
      "metadata": {
        "id": "OFy_pDEwk4iJ",
        "colab": {
          "base_uri": "https://localhost:8080/"
        },
        "outputId": "4067d88c-10bc-49bb-e7f5-aea794a29d4e"
      },
      "execution_count": 12,
      "outputs": [
        {
          "output_type": "stream",
          "name": "stdout",
          "text": [
            "/content/drive/MyDrive/mtad-gat-pytorch/datasets\n",
            "/content/drive/MyDrive/mtad-gat-pytorch\n"
          ]
        }
      ]
    },
    {
      "cell_type": "code",
      "source": [
        "%ls"
      ],
      "metadata": {
        "colab": {
          "base_uri": "https://localhost:8080/"
        },
        "id": "ktn_OHDQltDy",
        "outputId": "65337f87-486d-4c86-e80a-90154aca214e"
      },
      "execution_count": 13,
      "outputs": [
        {
          "output_type": "stream",
          "name": "stdout",
          "text": [
            "args.py          LICENSE      prediction.py  requirements.txt         utils.py\n",
            "\u001b[0m\u001b[01;34mbash_scripts\u001b[0m/    modules.py   predict.py     result_visualizer.ipynb\n",
            "\u001b[01;34mdatasets\u001b[0m/        mtad_gat.py  preprocess.py  spot.py\n",
            "eval_methods.py  \u001b[01;34moutput\u001b[0m/      \u001b[01;34m__pycache__\u001b[0m/   training.py\n",
            "\u001b[01;34mlicences\u001b[0m/        plotting.py  README.md      train.py\n"
          ]
        }
      ]
    },
    {
      "cell_type": "code",
      "source": [
        "!python preprocess.py --dataset MSL"
      ],
      "metadata": {
        "colab": {
          "base_uri": "https://localhost:8080/"
        },
        "id": "CO-G5eHigOlO",
        "outputId": "db192712-1c7c-4b4b-b665-0954e232208f"
      },
      "execution_count": 14,
      "outputs": [
        {
          "output_type": "stream",
          "name": "stdout",
          "text": [
            "MSL test_label (73729,)\n",
            "MSL train (58317, 55)\n",
            "MSL test (73729, 55)\n"
          ]
        }
      ]
    },
    {
      "cell_type": "code",
      "source": [
        "!python train.py --dataset MSL"
      ],
      "metadata": {
        "colab": {
          "base_uri": "https://localhost:8080/"
        },
        "id": "3pNZo2HNmPxS",
        "outputId": "78db41ef-42a2-42f3-e397-79fb22f99d78"
      },
      "execution_count": 15,
      "outputs": [
        {
          "output_type": "stream",
          "name": "stdout",
          "text": [
            "{'dataset': 'MSL', 'group': '1-1', 'lookback': 100, 'normalize': True, 'spec_res': False, 'kernel_size': 7, 'use_gatv2': True, 'feat_gat_embed_dim': None, 'time_gat_embed_dim': None, 'gru_n_layers': 1, 'gru_hid_dim': 150, 'fc_n_layers': 3, 'fc_hid_dim': 150, 'recon_n_layers': 1, 'recon_hid_dim': 150, 'alpha': 0.2, 'epochs': 30, 'val_split': 0.1, 'bs': 256, 'init_lr': 0.0001, 'shuffle_dataset': True, 'dropout': 0.3, 'use_cuda': True, 'print_every': 1, 'log_tensorboard': True, 'scale_scores': False, 'use_mov_av': False, 'gamma': 1, 'level': None, 'q': None, 'dynamic_pot': False, 'comment': ''}\n",
            "load data of: MSL\n",
            "train:  0 None\n",
            "test:  0 None\n",
            "Data normalized\n",
            "Data normalized\n",
            "train set shape:  (58317, 55)\n",
            "test set shape:  (73729, 55)\n",
            "test set label shape:  (73729,)\n",
            "111111111111111\n",
            "[[False False False ... False False False]\n",
            " [False False False ... False False False]\n",
            " [False False False ... False False False]\n",
            " ...\n",
            " [False False False ... False False False]\n",
            " [False False False ... False False False]\n",
            " [False False False ... False False False]]\n",
            "222222222222222\n",
            "Will forecast and reconstruct input features: [0]\n",
            "train_size: 52396\n",
            "validation_size: 5821\n",
            "test_size: 73629\n",
            "Init total train loss:   nan\n",
            "Init total val loss: nan\n",
            "Training model for 30 epochs..\n",
            "[Epoch 1] forecast_loss = nan, recon_loss = nan, total_loss = nan ---- val_forecast_loss = nan, val_recon_loss = nan, val_total_loss = nan [63.5s]\n",
            "[Epoch 2] forecast_loss = nan, recon_loss = nan, total_loss = nan ---- val_forecast_loss = nan, val_recon_loss = nan, val_total_loss = nan [64.8s]\n",
            "[Epoch 3] forecast_loss = nan, recon_loss = nan, total_loss = nan ---- val_forecast_loss = nan, val_recon_loss = nan, val_total_loss = nan [64.7s]\n",
            "[Epoch 4] forecast_loss = nan, recon_loss = nan, total_loss = nan ---- val_forecast_loss = nan, val_recon_loss = nan, val_total_loss = nan [64.6s]\n",
            "[Epoch 5] forecast_loss = nan, recon_loss = nan, total_loss = nan ---- val_forecast_loss = nan, val_recon_loss = nan, val_total_loss = nan [64.8s]\n",
            "[Epoch 6] forecast_loss = nan, recon_loss = nan, total_loss = nan ---- val_forecast_loss = nan, val_recon_loss = nan, val_total_loss = nan [64.7s]\n",
            "[Epoch 7] forecast_loss = nan, recon_loss = nan, total_loss = nan ---- val_forecast_loss = nan, val_recon_loss = nan, val_total_loss = nan [64.8s]\n",
            "[Epoch 8] forecast_loss = nan, recon_loss = nan, total_loss = nan ---- val_forecast_loss = nan, val_recon_loss = nan, val_total_loss = nan [64.8s]\n",
            "[Epoch 9] forecast_loss = nan, recon_loss = nan, total_loss = nan ---- val_forecast_loss = nan, val_recon_loss = nan, val_total_loss = nan [64.8s]\n",
            "[Epoch 10] forecast_loss = nan, recon_loss = nan, total_loss = nan ---- val_forecast_loss = nan, val_recon_loss = nan, val_total_loss = nan [64.7s]\n",
            "[Epoch 11] forecast_loss = nan, recon_loss = nan, total_loss = nan ---- val_forecast_loss = nan, val_recon_loss = nan, val_total_loss = nan [64.9s]\n",
            "[Epoch 12] forecast_loss = nan, recon_loss = nan, total_loss = nan ---- val_forecast_loss = nan, val_recon_loss = nan, val_total_loss = nan [64.9s]\n",
            "[Epoch 13] forecast_loss = nan, recon_loss = nan, total_loss = nan ---- val_forecast_loss = nan, val_recon_loss = nan, val_total_loss = nan [64.9s]\n",
            "[Epoch 14] forecast_loss = nan, recon_loss = nan, total_loss = nan ---- val_forecast_loss = nan, val_recon_loss = nan, val_total_loss = nan [64.8s]\n",
            "[Epoch 15] forecast_loss = nan, recon_loss = nan, total_loss = nan ---- val_forecast_loss = nan, val_recon_loss = nan, val_total_loss = nan [64.9s]\n",
            "[Epoch 16] forecast_loss = nan, recon_loss = nan, total_loss = nan ---- val_forecast_loss = nan, val_recon_loss = nan, val_total_loss = nan [64.8s]\n",
            "[Epoch 17] forecast_loss = nan, recon_loss = nan, total_loss = nan ---- val_forecast_loss = nan, val_recon_loss = nan, val_total_loss = nan [65.1s]\n",
            "[Epoch 18] forecast_loss = nan, recon_loss = nan, total_loss = nan ---- val_forecast_loss = nan, val_recon_loss = nan, val_total_loss = nan [65.0s]\n",
            "[Epoch 19] forecast_loss = nan, recon_loss = nan, total_loss = nan ---- val_forecast_loss = nan, val_recon_loss = nan, val_total_loss = nan [64.7s]\n",
            "[Epoch 20] forecast_loss = nan, recon_loss = nan, total_loss = nan ---- val_forecast_loss = nan, val_recon_loss = nan, val_total_loss = nan [64.8s]\n",
            "Traceback (most recent call last):\n",
            "  File \"train.py\", line 122, in <module>\n",
            "    trainer.fit(train_loader, val_loader)\n",
            "  File \"/content/drive/MyDrive/mtad-gat-pytorch/training.py\", line 111, in fit\n",
            "    preds, recons = self.model(x)\n",
            "  File \"/usr/local/lib/python3.7/dist-packages/torch/nn/modules/module.py\", line 1110, in _call_impl\n",
            "    return forward_call(*input, **kwargs)\n",
            "  File \"/content/drive/MyDrive/mtad-gat-pytorch/mtad_gat.py\", line 69, in forward\n",
            "    h_temp = self.temporal_gat(x)\n",
            "  File \"/usr/local/lib/python3.7/dist-packages/torch/nn/modules/module.py\", line 1110, in _call_impl\n",
            "    return forward_call(*input, **kwargs)\n",
            "  File \"/content/drive/MyDrive/mtad-gat-pytorch/modules.py\", line 174, in forward\n",
            "    a_input = self._make_attention_input(x)              # (b, n, n, 2*n_features)\n",
            "  File \"/content/drive/MyDrive/mtad-gat-pytorch/modules.py\", line 210, in _make_attention_input\n",
            "    blocks_repeating = v.repeat_interleave(K, dim=1)  # Left-side of the matrix\n",
            "KeyboardInterrupt\n"
          ]
        }
      ]
    }
  ]
}